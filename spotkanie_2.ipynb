{
 "cells": [
  {
   "cell_type": "markdown",
   "metadata": {
    "id": "dHVeDwFJ01Zs"
   },
   "source": [
    "## 1. Listy i pętle"
   ]
  },
  {
   "cell_type": "markdown",
   "metadata": {},
   "source": [
    "1 Zadanie\n",
    "\n",
    "1. Stwórz listę zakupów z 5 elementami.\n",
    "2. Nazwij zmienną: lista_zakupow"
   ]
  },
  {
   "cell_type": "code",
   "execution_count": null,
   "metadata": {},
   "outputs": [],
   "source": [
    "zwierzeta = ['lis', 'kot', 'slon', 'mrowka', 'kaczka']"
   ]
  },
  {
   "cell_type": "code",
   "execution_count": null,
   "metadata": {},
   "outputs": [],
   "source": [
    "# Tutaj wpisz rozwiązanie\n"
   ]
  },
  {
   "cell_type": "markdown",
   "metadata": {},
   "source": [
    "2 Zadanie\n",
    "\n",
    "1. Wyświetl drugi element listy zakupów."
   ]
  },
  {
   "cell_type": "code",
   "execution_count": null,
   "metadata": {},
   "outputs": [],
   "source": [
    "zwierzeta[1]"
   ]
  },
  {
   "cell_type": "code",
   "execution_count": null,
   "metadata": {},
   "outputs": [],
   "source": [
    "# Tutaj wpisz rozwiązanie\n"
   ]
  },
  {
   "cell_type": "markdown",
   "metadata": {},
   "source": [
    "3 Zadanie\n",
    "\n",
    "1. Zmień drugi element listy zakupów na 'pomidor'"
   ]
  },
  {
   "cell_type": "code",
   "execution_count": null,
   "metadata": {},
   "outputs": [],
   "source": [
    "zwierzeta[1] = 'mamut'"
   ]
  },
  {
   "cell_type": "code",
   "execution_count": null,
   "metadata": {},
   "outputs": [],
   "source": [
    "# Tutaj wpisz rozwiązanie"
   ]
  },
  {
   "cell_type": "markdown",
   "metadata": {},
   "source": [
    "3.5 Zadanie\n",
    "\n",
    "1. Zmień dowolny element listy na wybrane słowo"
   ]
  },
  {
   "cell_type": "code",
   "execution_count": null,
   "metadata": {},
   "outputs": [],
   "source": [
    "# Tutaj wpisz rozwiązanie"
   ]
  },
  {
   "cell_type": "markdown",
   "metadata": {},
   "source": [
    "4 Zadanie\n",
    "\n",
    "1. Wyświetl wszystkie elementy listy zakupów za pomocą pętli. Użyj sposobu z przykładu."
   ]
  },
  {
   "cell_type": "code",
   "execution_count": null,
   "metadata": {},
   "outputs": [],
   "source": [
    "for zwierze in zwierzeta:\n",
    "    print(zwierze)"
   ]
  },
  {
   "cell_type": "code",
   "execution_count": null,
   "metadata": {},
   "outputs": [],
   "source": [
    "# Tutaj wpisz rozwiązanie"
   ]
  },
  {
   "cell_type": "markdown",
   "metadata": {},
   "source": [
    "5 Zadanie\n",
    "\n",
    "1. Wyświetl liczby od 0 do 1000"
   ]
  },
  {
   "cell_type": "code",
   "execution_count": null,
   "metadata": {
    "id": "uTdXmCru01Zw",
    "outputId": "1adbfcac-713a-404f-c0ef-d84aef80633e"
   },
   "outputs": [],
   "source": [
    "for i in range(11):\n",
    "    print(i)"
   ]
  },
  {
   "cell_type": "code",
   "execution_count": null,
   "metadata": {},
   "outputs": [],
   "source": [
    "# Tutaj wpisz rozwiązanie"
   ]
  },
  {
   "cell_type": "markdown",
   "metadata": {},
   "source": [
    "6 Zadanie\n",
    "\n",
    "1. Policz ilość elementów w swojej liście zakupów"
   ]
  },
  {
   "cell_type": "code",
   "execution_count": null,
   "metadata": {},
   "outputs": [],
   "source": [
    "zwierzeta = ['lis', 'kot', 'slon', 'mrowka', 'kaczka']\n",
    "len(zwierzeta)"
   ]
  },
  {
   "cell_type": "code",
   "execution_count": null,
   "metadata": {},
   "outputs": [],
   "source": [
    "# Tutaj wpisz rozwiązanie"
   ]
  },
  {
   "cell_type": "markdown",
   "metadata": {},
   "source": [
    "7 Zadanie\n",
    "\n",
    "1. Zmień 2 element na 'baton'"
   ]
  },
  {
   "cell_type": "code",
   "execution_count": null,
   "metadata": {
    "id": "QMzsveOj01Zw",
    "outputId": "30d70550-c14c-4972-d1dd-38b413dda77b"
   },
   "outputs": [],
   "source": [
    "for i in range(len(zwierzeta)):\n",
    "    if (i==2):\n",
    "        zwierzeta[i] = 'koala'\n",
    "print(zwierzeta)"
   ]
  },
  {
   "cell_type": "code",
   "execution_count": null,
   "metadata": {},
   "outputs": [],
   "source": [
    "# Tutaj wpisz rozwiązanie"
   ]
  },
  {
   "cell_type": "markdown",
   "metadata": {},
   "source": [
    "7.5 Zadanie\n",
    "\n",
    "1. Narysuj 10 lini gwiazdek"
   ]
  },
  {
   "cell_type": "code",
   "execution_count": null,
   "metadata": {},
   "outputs": [],
   "source": [
    "for i in range(1, 6):\n",
    "    print(\"*\" * i)"
   ]
  },
  {
   "cell_type": "code",
   "execution_count": null,
   "metadata": {},
   "outputs": [],
   "source": [
    "# Tutaj wpisz rozwiązanie"
   ]
  },
  {
   "cell_type": "markdown",
   "metadata": {},
   "source": [
    "8 Zadanie \n",
    "\n",
    "1. Dodaj do swojej listy zakupów 'baton' i wyświetl swoją liste"
   ]
  },
  {
   "cell_type": "code",
   "execution_count": null,
   "metadata": {},
   "outputs": [],
   "source": [
    "zwierzeta.append('pies')"
   ]
  },
  {
   "cell_type": "code",
   "execution_count": null,
   "metadata": {},
   "outputs": [],
   "source": [
    "# Tutaj wpisz rozwiązanie"
   ]
  },
  {
   "cell_type": "markdown",
   "metadata": {},
   "source": [
    "8.5 Zadanie\n",
    "1. Dodaj dowolny element do swojej listy"
   ]
  },
  {
   "cell_type": "code",
   "execution_count": null,
   "metadata": {},
   "outputs": [],
   "source": [
    "# Tutaj wpisz rozwiązanie"
   ]
  },
  {
   "cell_type": "markdown",
   "metadata": {},
   "source": [
    "9 Zadanie \n",
    "\n",
    "1. Stwórz drugą listę zakupów i dodaj je za pomocą dodawania"
   ]
  },
  {
   "cell_type": "code",
   "execution_count": null,
   "metadata": {},
   "outputs": [],
   "source": [
    "print(zwierzeta)"
   ]
  },
  {
   "cell_type": "code",
   "execution_count": null,
   "metadata": {},
   "outputs": [],
   "source": [
    "zwierzeta_do_dodania = ['kon','swinia']"
   ]
  },
  {
   "cell_type": "code",
   "execution_count": null,
   "metadata": {},
   "outputs": [],
   "source": [
    "wszystkie_zwierzeta = zwierzeta + zwierzeta_do_dodania\n",
    "print(wszystkie_zwierzeta)"
   ]
  },
  {
   "cell_type": "code",
   "execution_count": null,
   "metadata": {},
   "outputs": [],
   "source": [
    "# Tutaj wpisz rozwiązanie"
   ]
  },
  {
   "cell_type": "code",
   "execution_count": null,
   "metadata": {},
   "outputs": [],
   "source": [
    "# Tutaj wpisz rozwiązanie"
   ]
  },
  {
   "cell_type": "code",
   "execution_count": null,
   "metadata": {},
   "outputs": [],
   "source": [
    "# Tutaj wpisz rozwiązanie"
   ]
  },
  {
   "cell_type": "markdown",
   "metadata": {
    "id": "eB1QdOL101Zx"
   },
   "source": [
    "10 Zadanie \n",
    "\n",
    "1. Stwórz swój napis i policz jego liczbe znaków"
   ]
  },
  {
   "cell_type": "code",
   "execution_count": null,
   "metadata": {
    "id": "Tl8_QtXk01Zx"
   },
   "outputs": [],
   "source": [
    "napis = 'Ala ma kota, ale nie ma psa.'"
   ]
  },
  {
   "cell_type": "code",
   "execution_count": null,
   "metadata": {
    "id": "dM6UyVLV01Zx"
   },
   "outputs": [],
   "source": [
    "liczba_znakow = len(napis)"
   ]
  },
  {
   "cell_type": "code",
   "execution_count": null,
   "metadata": {
    "id": "F68JzllP01Zy",
    "outputId": "bcac8603-f941-4212-da5a-ac4d034f6cfc"
   },
   "outputs": [],
   "source": [
    "print(liczba_znakow)"
   ]
  },
  {
   "cell_type": "code",
   "execution_count": null,
   "metadata": {},
   "outputs": [],
   "source": [
    "# Tutaj wpisz rozwiązanie"
   ]
  },
  {
   "cell_type": "code",
   "execution_count": null,
   "metadata": {},
   "outputs": [],
   "source": [
    "# Tutaj wpisz rozwiązanie"
   ]
  },
  {
   "cell_type": "code",
   "execution_count": null,
   "metadata": {},
   "outputs": [],
   "source": [
    "# Tutaj wpisz rozwiązanie"
   ]
  },
  {
   "cell_type": "markdown",
   "metadata": {
    "id": "SyqAk-Bx01Zy"
   },
   "source": [
    "11 Zadanie dodatkowe - policz liczbę słów za pomocą pętli"
   ]
  },
  {
   "cell_type": "code",
   "execution_count": null,
   "metadata": {
    "id": "EEDD5v7L01Zy",
    "outputId": "015e6fc5-4f99-40e2-95ec-28a6321479fa"
   },
   "outputs": [],
   "source": [
    "liczba_znakow = 0 # poczatkowa wartosc – bedziemy do niej dodawac 1 gdy natrafimy na znak\n",
    "for znak in napis: # dla kazdego znak w napis\n",
    "    if znak == ' ': # gdy znak jest spacją\n",
    "        liczba_znakow = liczba_znakow + 1 # zwiekszaj po kolei o 1 liczbe znakow\n",
    "print(liczba_znakow)"
   ]
  },
  {
   "cell_type": "markdown",
   "metadata": {
    "id": "aeRZjgAt01aC"
   },
   "source": [
    "12 Zadanie\n",
    "1. Korzystajac z pętli for wypisz na ekran liczby od 59 do 10002 (włącznie)"
   ]
  },
  {
   "cell_type": "code",
   "execution_count": null,
   "metadata": {
    "id": "N9FDvVaR01aC",
    "outputId": "24ba26d6-40bd-4646-8715-20cbf6c6421c"
   },
   "outputs": [],
   "source": [
    "for i in range(5,12):\n",
    "    print(i)"
   ]
  },
  {
   "cell_type": "code",
   "execution_count": null,
   "metadata": {},
   "outputs": [],
   "source": [
    "# Tutaj wpisz rozwiązanie"
   ]
  },
  {
   "cell_type": "markdown",
   "metadata": {},
   "source": [
    "12.5 Zadanie\n",
    "\n",
    "1.  Wypisz co trzecią liczbę od 1 do 30"
   ]
  },
  {
   "cell_type": "code",
   "execution_count": null,
   "metadata": {},
   "outputs": [],
   "source": [
    "for i in range(0, 100, 10):\n",
    "    print(i)"
   ]
  },
  {
   "cell_type": "code",
   "execution_count": null,
   "metadata": {},
   "outputs": [],
   "source": [
    "# Tutaj wpisz rozwiązanie"
   ]
  },
  {
   "cell_type": "markdown",
   "metadata": {
    "id": "tVf0Bn7b01aC"
   },
   "source": [
    "13 Zadanie\n",
    "1. Korzystając z pętli for wypisz na ekran liczby od 0 do 20, które są parzyste (podpowiedź: skorzystaj z range(start, stop, step) opisanym na pierwszej stronie)"
   ]
  },
  {
   "cell_type": "code",
   "execution_count": null,
   "metadata": {
    "id": "szkrdFun01aC",
    "outputId": "30598cdf-4435-442e-95f5-68e418bcb51a"
   },
   "outputs": [],
   "source": [
    "for i in range(0,50,5):\n",
    "    print(i)"
   ]
  },
  {
   "cell_type": "code",
   "execution_count": null,
   "metadata": {},
   "outputs": [],
   "source": [
    "# Tutaj wpisz rozwiązanie"
   ]
  },
  {
   "cell_type": "markdown",
   "metadata": {},
   "source": [
    "14 Zadanie\n",
    "1. Zgadnij liczbę od 1 do 15"
   ]
  },
  {
   "cell_type": "code",
   "execution_count": null,
   "metadata": {},
   "outputs": [],
   "source": [
    "import random\n",
    " \n",
    "sekretna_liczba = random.randint(1, 15)\n",
    "strzal = int(input(\"Zgadnij liczbę od 1 do 10: \"))\n",
    " \n",
    "if strzal == sekretna_liczba:\n",
    "    print(\"Brawo! Zgadłeś!\")\n",
    "else:\n",
    "    print(\"Niestety, to nie ta liczba. Prawidłowa liczba to:\", sekretna_liczba)"
   ]
  },
  {
   "cell_type": "markdown",
   "metadata": {},
   "source": [
    "15 Zadanie\n",
    "1. Zgadnij liczbę od 1 do 100"
   ]
  },
  {
   "cell_type": "code",
   "execution_count": null,
   "metadata": {},
   "outputs": [],
   "source": [
    "# Zadanie 16: Zgadnij liczbę z podpowiedziami\n",
    "import random\n",
    "\n",
    "sekretna = random.randint(1, 100)\n",
    "proby = 0\n",
    "\n",
    "while True:\n",
    "    strzal = int(input(\"Zgadnij liczbę od 1 do 100: \"))\n",
    "    proby += 1\n",
    "    \n",
    "    if strzal == sekretna:\n",
    "        print(f\"Brawo! Zgadłeś za {proby} próbą!\")\n",
    "        break\n",
    "    elif strzal < sekretna:\n",
    "        print(\"Za mało. Spróbuj wyżej.\")\n",
    "    else:\n",
    "        print(\"Za dużo. Spróbuj niżej.\")"
   ]
  },
  {
   "cell_type": "code",
   "execution_count": null,
   "metadata": {},
   "outputs": [],
   "source": [
    "# Stałe:\n",
    "HANGMAN_PICS = ['''\n",
    "   +---+\n",
    "       |\n",
    "       |\n",
    "       |\n",
    "      ===''', '''\n",
    "   +---+\n",
    "   O   |\n",
    "       |\n",
    "       |\n",
    "      ===''', '''\n",
    "   +---+\n",
    "   O   |\n",
    "   |   |\n",
    "       |\n",
    "      ===''', '''\n",
    "   +---+\n",
    "   O   |\n",
    "  /|   |\n",
    "       |\n",
    "      ===''', '''\n",
    "   +---+\n",
    "   O   |\n",
    "  /|\\  |\n",
    "       |\n",
    "      ===''', '''\n",
    "   +---+\n",
    "   O   |\n",
    "  /|\\  |\n",
    "  /    |\n",
    "      ===''', '''\n",
    "   +---+\n",
    "   O   |\n",
    "  /|\\  |\n",
    "  / \\  |\n",
    "      ===''']\n"
   ]
  },
  {
   "cell_type": "code",
   "execution_count": null,
   "metadata": {},
   "outputs": [],
   "source": [
    "import time\n",
    "import random\n",
    "from IPython.display import clear_output\n",
    "\n",
    "# Zmienne\n",
    "nietrafione_litery = ''\n",
    "trafione_litery = ''\n",
    "gra_skonczona = False\n",
    "\n",
    "# Wprowadzenie\n",
    "print('H A N G M A N')\n",
    "imie = input(\"Podaj imię: \")\n",
    "imie = imie.capitalize()\n",
    "print(\"Cześć \"+ imie +\", zagrajmy w Wisielca!\")\n",
    "time.sleep(1)\n",
    "print(\"Twoim celem jest zgadnięcie słowa, które wybrał komputer.\")\n",
    "time.sleep(1)\n",
    "print(\"Z każdą próbą, możesz wybrać tylko jedną literę. Pamiętaj aby potem zatwierdzić wybór klawiszem 'Enter'\")\n",
    "time.sleep(2)\n",
    "print(\"Zaczynamy!\")\n",
    "time.sleep(1)\n",
    "\n",
    "# Losuj sekretne słowo\n",
    "kategoria = input(\"Wybierz kategorię: O - owoce / S - superbohaterowie:\")\n",
    "\n",
    "if kategoria.lower() == \"s\":\n",
    "    sekretne_slowo = random.choice(SUPERBOHATEROWIE)\n",
    "elif kategoria.lower() == \"o\":\n",
    "    sekretne_slowo = random.choice(OWOCE)\n",
    "\n",
    "while True:\n",
    "    # Wyświetl wyniki\n",
    "    clear_output() # Czyszczenie tego co zostało wcześniej wyświetlone\n",
    "    print(HANGMAN_PICS[len(nietrafione_litery)])\n",
    "    print()\n",
    "    print('Nietrafione litery:', end=' ')\n",
    "    for litera in nietrafione_litery:\n",
    "        print(litera, end=' ')\n",
    "    print()\n",
    "    puste = '_' * len(sekretne_slowo)\n",
    "    for i in range(len(sekretne_slowo)): # Zastąp puste miejsca poprawnymi odgadniętymi literami.\n",
    "        if sekretne_slowo[i] in trafione_litery:\n",
    "            puste = puste[:i] + sekretne_slowo[i] + puste[i+1:]\n",
    "    for litera in puste: # Wyświetl sekretne słowo ze spacjami pomiędzy każdą literą.\n",
    "        print(litera, end=' ')\n",
    "    print()\n",
    "\n",
    "    # Wprowadzenie litery przez gracza.\n",
    "    while True:\n",
    "        print('Podaj literę:')\n",
    "        podana_litera = input().lower()\n",
    "        if len(podana_litera) != 1:\n",
    "            print('Proszę podać pojedyńczą literę.')\n",
    "        elif podana_litera in nietrafione_litery + trafione_litery:\n",
    "            print('Tą literę już podano wcześniej. Podaj inną literę.')\n",
    "        elif podana_litera not in 'aąbcćdeęfghijklłmnńoópqrsśtuvwxyzźż':\n",
    "            print('To nie jest litera. Proszę podać literę.')\n",
    "        else:\n",
    "            break\n",
    "    \n",
    "    if podana_litera in sekretne_slowo:\n",
    "        trafione_litery = trafione_litery + podana_litera\n",
    "        # Sprawdzenie czy zawodnik wygrał.\n",
    "        znaleziono_wszytkie_litery = True\n",
    "        for i in range(len(sekretne_slowo)):\n",
    "            if sekretne_slowo[i] not in trafione_litery:\n",
    "                znaleziono_wszytkie_litery = False\n",
    "                break\n",
    "        if znaleziono_wszytkie_litery:\n",
    "            print('Tak! Sekretnym słowem jest \"' + sekretne_slowo + '\"! Wygrałeś!')\n",
    "            gra_skonczona = True\n",
    "    else:\n",
    "        nietrafione_litery = nietrafione_litery + podana_litera\n",
    "        # Sprawdz ilość prób - czy cokolwiek zostało\n",
    "        if len(nietrafione_litery) == len(HANGMAN_PICS) - 1:\n",
    "            # Wyświetl wyniki\n",
    "            clear_output() # Czyszczenie tego co zostało wcześniej wyświetlone\n",
    "            print(HANGMAN_PICS[len(nietrafione_litery)])\n",
    "            print()\n",
    "            print('Nietrafione litery:', end=' ')\n",
    "            for litera in nietrafione_litery:\n",
    "                print(litera, end=' ')\n",
    "            print()\n",
    "            puste = '_' * len(sekretne_slowo)\n",
    "            for i in range(len(sekretne_slowo)): # Zastąp puste miejsca poprawnymi odgadniętymi literami.\n",
    "                if sekretne_slowo[i] in trafione_litery:\n",
    "                    puste = puste[:i] + sekretne_slowo[i] + puste[i+1:]\n",
    "            for litera in puste: # Wyświetl sekretne słowo ze spacjami pomiędzy każdą literą.\n",
    "                print(litera, end=' ')\n",
    "            print()\n",
    "\n",
    "            print('Koniec prób! Przegrałeś!\\nPo ' + str(len(nietrafione_litery)) + ' błędnych i ' + str(len(trafione_litery)) + ' poprawnych próbach, szukanym słowem było \"' + sekretne_slowo + '\"')\n",
    "            gra_skonczona = True\n",
    "    # Zapytaj gracza, czy chce zagrać ponownie (ale tylko wtedy, gdy gra się skończy).\n",
    "    if gra_skonczona:\n",
    "        print('Czy chcesz zagrać ponownie? (tak lub nie)')\n",
    "        if input().lower().startswith('t'):\n",
    "            nietrafione_litery = ''\n",
    "            trafione_litery = ''\n",
    "            gra_skonczona = False\n",
    "\n",
    "            # Losuj sekretne słowo\n",
    "            kategoria = input(\"Wybierz kategorię: O - owoce / S - superbohaterowie: \")\n",
    "            if kategoria.lower() == \"s\":\n",
    "                sekretne_slowo = random.choice(SUPERBOHATEROWIE)\n",
    "            elif kategoria.lower() == \"o\":\n",
    "                sekretne_slowo = random.choice(OWOCE)\n",
    "        else:\n",
    "            break"
   ]
  },
  {
   "cell_type": "code",
   "execution_count": null,
   "metadata": {},
   "outputs": [],
   "source": []
  },
  {
   "cell_type": "code",
   "execution_count": null,
   "metadata": {},
   "outputs": [],
   "source": []
  },
  {
   "cell_type": "code",
   "execution_count": null,
   "metadata": {},
   "outputs": [],
   "source": []
  },
  {
   "cell_type": "code",
   "execution_count": null,
   "metadata": {},
   "outputs": [],
   "source": []
  },
  {
   "cell_type": "code",
   "execution_count": null,
   "metadata": {},
   "outputs": [],
   "source": []
  },
  {
   "cell_type": "code",
   "execution_count": null,
   "metadata": {},
   "outputs": [],
   "source": []
  },
  {
   "cell_type": "code",
   "execution_count": null,
   "metadata": {},
   "outputs": [],
   "source": []
  },
  {
   "cell_type": "code",
   "execution_count": null,
   "metadata": {},
   "outputs": [],
   "source": []
  },
  {
   "cell_type": "code",
   "execution_count": null,
   "metadata": {},
   "outputs": [],
   "source": []
  },
  {
   "cell_type": "code",
   "execution_count": null,
   "metadata": {},
   "outputs": [],
   "source": []
  },
  {
   "cell_type": "code",
   "execution_count": null,
   "metadata": {},
   "outputs": [],
   "source": []
  },
  {
   "cell_type": "code",
   "execution_count": null,
   "metadata": {},
   "outputs": [],
   "source": []
  },
  {
   "cell_type": "code",
   "execution_count": null,
   "metadata": {},
   "outputs": [],
   "source": []
  },
  {
   "cell_type": "code",
   "execution_count": null,
   "metadata": {},
   "outputs": [],
   "source": []
  },
  {
   "cell_type": "code",
   "execution_count": null,
   "metadata": {},
   "outputs": [],
   "source": []
  },
  {
   "cell_type": "code",
   "execution_count": null,
   "metadata": {},
   "outputs": [],
   "source": []
  },
  {
   "cell_type": "code",
   "execution_count": null,
   "metadata": {},
   "outputs": [],
   "source": []
  },
  {
   "cell_type": "code",
   "execution_count": null,
   "metadata": {},
   "outputs": [],
   "source": []
  },
  {
   "cell_type": "code",
   "execution_count": null,
   "metadata": {},
   "outputs": [],
   "source": []
  },
  {
   "cell_type": "code",
   "execution_count": null,
   "metadata": {},
   "outputs": [],
   "source": []
  },
  {
   "cell_type": "code",
   "execution_count": null,
   "metadata": {},
   "outputs": [],
   "source": []
  },
  {
   "cell_type": "code",
   "execution_count": null,
   "metadata": {},
   "outputs": [],
   "source": []
  },
  {
   "cell_type": "code",
   "execution_count": null,
   "metadata": {},
   "outputs": [],
   "source": []
  },
  {
   "cell_type": "code",
   "execution_count": null,
   "metadata": {},
   "outputs": [],
   "source": []
  },
  {
   "cell_type": "code",
   "execution_count": null,
   "metadata": {},
   "outputs": [],
   "source": []
  },
  {
   "cell_type": "code",
   "execution_count": null,
   "metadata": {},
   "outputs": [],
   "source": []
  },
  {
   "cell_type": "code",
   "execution_count": null,
   "metadata": {},
   "outputs": [],
   "source": []
  },
  {
   "cell_type": "code",
   "execution_count": null,
   "metadata": {},
   "outputs": [],
   "source": []
  },
  {
   "cell_type": "code",
   "execution_count": null,
   "metadata": {},
   "outputs": [],
   "source": []
  },
  {
   "cell_type": "code",
   "execution_count": null,
   "metadata": {},
   "outputs": [],
   "source": []
  },
  {
   "cell_type": "code",
   "execution_count": null,
   "metadata": {},
   "outputs": [],
   "source": []
  },
  {
   "cell_type": "code",
   "execution_count": null,
   "metadata": {},
   "outputs": [],
   "source": []
  },
  {
   "cell_type": "code",
   "execution_count": null,
   "metadata": {},
   "outputs": [],
   "source": []
  },
  {
   "cell_type": "code",
   "execution_count": null,
   "metadata": {},
   "outputs": [],
   "source": []
  },
  {
   "cell_type": "code",
   "execution_count": null,
   "metadata": {},
   "outputs": [],
   "source": []
  },
  {
   "cell_type": "code",
   "execution_count": null,
   "metadata": {},
   "outputs": [],
   "source": []
  },
  {
   "cell_type": "code",
   "execution_count": null,
   "metadata": {},
   "outputs": [],
   "source": []
  },
  {
   "cell_type": "code",
   "execution_count": null,
   "metadata": {},
   "outputs": [],
   "source": []
  },
  {
   "cell_type": "code",
   "execution_count": null,
   "metadata": {},
   "outputs": [],
   "source": []
  },
  {
   "cell_type": "code",
   "execution_count": null,
   "metadata": {},
   "outputs": [],
   "source": []
  },
  {
   "cell_type": "code",
   "execution_count": null,
   "metadata": {},
   "outputs": [],
   "source": []
  },
  {
   "cell_type": "code",
   "execution_count": null,
   "metadata": {},
   "outputs": [],
   "source": []
  },
  {
   "cell_type": "code",
   "execution_count": null,
   "metadata": {},
   "outputs": [],
   "source": []
  },
  {
   "cell_type": "code",
   "execution_count": null,
   "metadata": {},
   "outputs": [],
   "source": []
  },
  {
   "cell_type": "code",
   "execution_count": null,
   "metadata": {},
   "outputs": [],
   "source": []
  },
  {
   "cell_type": "code",
   "execution_count": null,
   "metadata": {},
   "outputs": [],
   "source": []
  },
  {
   "cell_type": "code",
   "execution_count": null,
   "metadata": {},
   "outputs": [],
   "source": []
  },
  {
   "cell_type": "code",
   "execution_count": null,
   "metadata": {},
   "outputs": [],
   "source": []
  },
  {
   "cell_type": "code",
   "execution_count": null,
   "metadata": {},
   "outputs": [],
   "source": []
  },
  {
   "cell_type": "code",
   "execution_count": null,
   "metadata": {},
   "outputs": [],
   "source": []
  },
  {
   "cell_type": "code",
   "execution_count": null,
   "metadata": {},
   "outputs": [],
   "source": []
  },
  {
   "cell_type": "code",
   "execution_count": null,
   "metadata": {},
   "outputs": [],
   "source": []
  },
  {
   "cell_type": "code",
   "execution_count": null,
   "metadata": {},
   "outputs": [],
   "source": []
  },
  {
   "cell_type": "code",
   "execution_count": null,
   "metadata": {},
   "outputs": [],
   "source": []
  },
  {
   "cell_type": "code",
   "execution_count": null,
   "metadata": {},
   "outputs": [],
   "source": []
  },
  {
   "cell_type": "code",
   "execution_count": null,
   "metadata": {},
   "outputs": [],
   "source": []
  },
  {
   "cell_type": "code",
   "execution_count": null,
   "metadata": {},
   "outputs": [],
   "source": []
  },
  {
   "cell_type": "code",
   "execution_count": null,
   "metadata": {},
   "outputs": [],
   "source": []
  },
  {
   "cell_type": "code",
   "execution_count": null,
   "metadata": {},
   "outputs": [],
   "source": []
  },
  {
   "cell_type": "code",
   "execution_count": null,
   "metadata": {},
   "outputs": [],
   "source": []
  },
  {
   "cell_type": "code",
   "execution_count": null,
   "metadata": {},
   "outputs": [],
   "source": []
  },
  {
   "cell_type": "code",
   "execution_count": null,
   "metadata": {},
   "outputs": [],
   "source": []
  },
  {
   "cell_type": "code",
   "execution_count": null,
   "metadata": {},
   "outputs": [],
   "source": []
  },
  {
   "cell_type": "code",
   "execution_count": null,
   "metadata": {},
   "outputs": [],
   "source": []
  },
  {
   "cell_type": "code",
   "execution_count": null,
   "metadata": {},
   "outputs": [],
   "source": []
  },
  {
   "cell_type": "code",
   "execution_count": null,
   "metadata": {},
   "outputs": [],
   "source": []
  },
  {
   "cell_type": "code",
   "execution_count": null,
   "metadata": {},
   "outputs": [],
   "source": []
  },
  {
   "cell_type": "code",
   "execution_count": null,
   "metadata": {},
   "outputs": [],
   "source": []
  },
  {
   "cell_type": "code",
   "execution_count": null,
   "metadata": {},
   "outputs": [],
   "source": []
  },
  {
   "cell_type": "code",
   "execution_count": null,
   "metadata": {},
   "outputs": [],
   "source": []
  },
  {
   "cell_type": "code",
   "execution_count": null,
   "metadata": {},
   "outputs": [],
   "source": []
  },
  {
   "cell_type": "code",
   "execution_count": null,
   "metadata": {},
   "outputs": [],
   "source": []
  },
  {
   "cell_type": "code",
   "execution_count": null,
   "metadata": {},
   "outputs": [],
   "source": []
  },
  {
   "cell_type": "code",
   "execution_count": null,
   "metadata": {},
   "outputs": [],
   "source": []
  },
  {
   "cell_type": "code",
   "execution_count": null,
   "metadata": {},
   "outputs": [],
   "source": []
  },
  {
   "cell_type": "code",
   "execution_count": null,
   "metadata": {},
   "outputs": [],
   "source": []
  },
  {
   "cell_type": "code",
   "execution_count": null,
   "metadata": {},
   "outputs": [],
   "source": []
  },
  {
   "cell_type": "code",
   "execution_count": null,
   "metadata": {},
   "outputs": [],
   "source": []
  },
  {
   "cell_type": "code",
   "execution_count": null,
   "metadata": {},
   "outputs": [],
   "source": []
  },
  {
   "cell_type": "code",
   "execution_count": null,
   "metadata": {},
   "outputs": [],
   "source": []
  },
  {
   "cell_type": "code",
   "execution_count": null,
   "metadata": {},
   "outputs": [],
   "source": []
  },
  {
   "cell_type": "code",
   "execution_count": null,
   "metadata": {},
   "outputs": [],
   "source": []
  },
  {
   "cell_type": "code",
   "execution_count": null,
   "metadata": {},
   "outputs": [],
   "source": []
  },
  {
   "cell_type": "code",
   "execution_count": null,
   "metadata": {},
   "outputs": [],
   "source": []
  },
  {
   "cell_type": "code",
   "execution_count": null,
   "metadata": {},
   "outputs": [],
   "source": []
  },
  {
   "cell_type": "code",
   "execution_count": null,
   "metadata": {},
   "outputs": [],
   "source": []
  },
  {
   "cell_type": "code",
   "execution_count": null,
   "metadata": {},
   "outputs": [],
   "source": []
  },
  {
   "cell_type": "code",
   "execution_count": null,
   "metadata": {},
   "outputs": [],
   "source": []
  },
  {
   "cell_type": "code",
   "execution_count": null,
   "metadata": {},
   "outputs": [],
   "source": []
  },
  {
   "cell_type": "code",
   "execution_count": null,
   "metadata": {},
   "outputs": [],
   "source": []
  },
  {
   "cell_type": "code",
   "execution_count": null,
   "metadata": {},
   "outputs": [],
   "source": []
  },
  {
   "cell_type": "code",
   "execution_count": null,
   "metadata": {},
   "outputs": [],
   "source": []
  },
  {
   "cell_type": "code",
   "execution_count": null,
   "metadata": {},
   "outputs": [],
   "source": []
  },
  {
   "cell_type": "code",
   "execution_count": null,
   "metadata": {},
   "outputs": [],
   "source": []
  },
  {
   "cell_type": "code",
   "execution_count": null,
   "metadata": {},
   "outputs": [],
   "source": []
  },
  {
   "cell_type": "code",
   "execution_count": null,
   "metadata": {},
   "outputs": [],
   "source": []
  },
  {
   "cell_type": "code",
   "execution_count": null,
   "metadata": {},
   "outputs": [],
   "source": []
  },
  {
   "cell_type": "code",
   "execution_count": null,
   "metadata": {},
   "outputs": [],
   "source": []
  },
  {
   "cell_type": "code",
   "execution_count": null,
   "metadata": {},
   "outputs": [],
   "source": []
  },
  {
   "cell_type": "code",
   "execution_count": null,
   "metadata": {},
   "outputs": [],
   "source": [
    "#TECHNICALITIES\n",
    "\n",
    "\n",
    "OWOCE = ['gruszka', 'jabłko', 'banan', 'wiśnia']\n",
    "SUPERBOHATEROWIE = ['thor', 'superman', 'deadpool', 'vision', 'hulk', 'aquaman', 'spiderman', 'ironman', 'blackwidow', 'hawkeye']"
   ]
  }
 ],
 "metadata": {
  "colab": {
   "provenance": [],
   "toc_visible": true
  },
  "kernelspec": {
   "display_name": "Python 3",
   "language": "python",
   "name": "python3"
  },
  "language_info": {
   "codemirror_mode": {
    "name": "ipython",
    "version": 3
   },
   "file_extension": ".py",
   "mimetype": "text/x-python",
   "name": "python",
   "nbconvert_exporter": "python",
   "pygments_lexer": "ipython3",
   "version": "3.11.0rc2"
  }
 },
 "nbformat": 4,
 "nbformat_minor": 1
}
