{
 "cells": [
  {
   "cell_type": "markdown",
   "metadata": {},
   "source": [
    "## Na dobry pocztek :)"
   ]
  },
  {
   "cell_type": "code",
   "execution_count": 1,
   "metadata": {},
   "outputs": [],
   "source": [
    "from urodziny import zgadnij_urodziny"
   ]
  },
  {
   "cell_type": "code",
   "execution_count": null,
   "metadata": {},
   "outputs": [],
   "source": [
    "zgadnij_urodziny()"
   ]
  },
  {
   "cell_type": "code",
   "execution_count": 4,
   "metadata": {},
   "outputs": [],
   "source": [
    "from papier_kamien_nozyce import papier_kamien_nozyce"
   ]
  },
  {
   "cell_type": "code",
   "execution_count": null,
   "metadata": {},
   "outputs": [],
   "source": [
    "papier_kamien_nozyce()"
   ]
  },
  {
   "cell_type": "markdown",
   "metadata": {},
   "source": [
    "## Print()"
   ]
  },
  {
   "cell_type": "markdown",
   "metadata": {},
   "source": [
    "print() – służy do wyświetlania wynikow na ekranie"
   ]
  },
  {
   "cell_type": "code",
   "execution_count": 2,
   "metadata": {
    "ExecuteTime": {
     "end_time": "2023-06-30T11:01:09.622913Z",
     "start_time": "2023-06-30T11:01:09.618888Z"
    }
   },
   "outputs": [
    {
     "name": "stdout",
     "output_type": "stream",
     "text": [
      "Hello World\n"
     ]
    }
   ],
   "source": [
    "print(\"Hello World\")"
   ]
  },
  {
   "cell_type": "markdown",
   "metadata": {},
   "source": [
    "## Zmienne"
   ]
  },
  {
   "cell_type": "code",
   "execution_count": 3,
   "metadata": {
    "ExecuteTime": {
     "end_time": "2023-06-30T11:01:09.755192Z",
     "start_time": "2023-06-30T11:01:09.625814Z"
    }
   },
   "outputs": [],
   "source": [
    "magda = 14"
   ]
  },
  {
   "cell_type": "code",
   "execution_count": null,
   "metadata": {},
   "outputs": [],
   "source": []
  },
  {
   "cell_type": "code",
   "execution_count": 4,
   "metadata": {
    "ExecuteTime": {
     "end_time": "2023-06-30T11:01:09.855407Z",
     "start_time": "2023-06-30T11:01:09.758029Z"
    }
   },
   "outputs": [
    {
     "name": "stdout",
     "output_type": "stream",
     "text": [
      "14\n"
     ]
    }
   ],
   "source": [
    "print(magda)"
   ]
  },
  {
   "cell_type": "code",
   "execution_count": null,
   "metadata": {},
   "outputs": [],
   "source": []
  },
  {
   "cell_type": "code",
   "execution_count": 5,
   "metadata": {
    "ExecuteTime": {
     "end_time": "2023-06-30T11:01:09.969907Z",
     "start_time": "2023-06-30T11:01:09.858743Z"
    }
   },
   "outputs": [],
   "source": [
    "magda = 17"
   ]
  },
  {
   "cell_type": "code",
   "execution_count": 6,
   "metadata": {
    "ExecuteTime": {
     "end_time": "2023-06-30T11:01:10.076275Z",
     "start_time": "2023-06-30T11:01:09.971814Z"
    }
   },
   "outputs": [
    {
     "name": "stdout",
     "output_type": "stream",
     "text": [
      "17\n"
     ]
    }
   ],
   "source": [
    "print(magda)"
   ]
  },
  {
   "cell_type": "code",
   "execution_count": 7,
   "metadata": {
    "ExecuteTime": {
     "end_time": "2023-06-30T11:01:10.177646Z",
     "start_time": "2023-06-30T11:01:10.078512Z"
    }
   },
   "outputs": [],
   "source": [
    "#Zmienne mozna do siebie odnosic\n",
    "\n",
    "maciek = magda"
   ]
  },
  {
   "cell_type": "markdown",
   "metadata": {},
   "source": [
    "Na zmiennych można przeprowadzać operacje : np +,-,*,/\n"
   ]
  },
  {
   "cell_type": "code",
   "execution_count": 8,
   "metadata": {
    "ExecuteTime": {
     "end_time": "2023-06-30T11:01:10.280156Z",
     "start_time": "2023-06-30T11:01:10.182456Z"
    }
   },
   "outputs": [],
   "source": [
    "karol = maciek-3"
   ]
  },
  {
   "cell_type": "code",
   "execution_count": 9,
   "metadata": {
    "ExecuteTime": {
     "end_time": "2023-06-30T11:01:10.395839Z",
     "start_time": "2023-06-30T11:01:10.283258Z"
    }
   },
   "outputs": [
    {
     "data": {
      "text/plain": [
       "17"
      ]
     },
     "execution_count": 9,
     "metadata": {},
     "output_type": "execute_result"
    }
   ],
   "source": [
    "maciek"
   ]
  },
  {
   "cell_type": "code",
   "execution_count": 10,
   "metadata": {
    "ExecuteTime": {
     "end_time": "2023-06-30T11:01:10.507387Z",
     "start_time": "2023-06-30T11:01:10.401104Z"
    }
   },
   "outputs": [],
   "source": [
    "found_coins = 20\n",
    "magic_coins = 10\n",
    "stolen_coins = 3"
   ]
  },
  {
   "cell_type": "code",
   "execution_count": 11,
   "metadata": {
    "ExecuteTime": {
     "end_time": "2023-06-30T11:01:10.651954Z",
     "start_time": "2023-06-30T11:01:10.513250Z"
    }
   },
   "outputs": [
    {
     "data": {
      "text/plain": [
       "3514"
      ]
     },
     "execution_count": 11,
     "metadata": {},
     "output_type": "execute_result"
    }
   ],
   "source": [
    "found_coins + magic_coins*365 - stolen_coins*52"
   ]
  },
  {
   "cell_type": "markdown",
   "metadata": {},
   "source": [
    "Zadanie:\n",
    "\n",
    "    a. Utworz zmienna o swoim imieniu i wpisz do niej swoj wiek\n",
    "    b. Utworz zmienna o imieniu swojej kolezanki i pomnoz jej wiek razy2"
   ]
  },
  {
   "cell_type": "code",
   "execution_count": null,
   "metadata": {},
   "outputs": [],
   "source": []
  },
  {
   "cell_type": "code",
   "execution_count": null,
   "metadata": {},
   "outputs": [],
   "source": []
  },
  {
   "cell_type": "markdown",
   "metadata": {},
   "source": [
    "## Łańcuch znaków"
   ]
  },
  {
   "cell_type": "markdown",
   "metadata": {},
   "source": [
    "Łańcuch znaków (string) = tekst"
   ]
  },
  {
   "cell_type": "code",
   "execution_count": 12,
   "metadata": {
    "ExecuteTime": {
     "end_time": "2023-06-30T11:01:10.774924Z",
     "start_time": "2023-06-30T11:01:10.655110Z"
    }
   },
   "outputs": [],
   "source": [
    "czarodziej = 'harry potter '"
   ]
  },
  {
   "cell_type": "code",
   "execution_count": 13,
   "metadata": {
    "ExecuteTime": {
     "end_time": "2023-06-30T11:01:10.872403Z",
     "start_time": "2023-06-30T11:01:10.781101Z"
    }
   },
   "outputs": [
    {
     "name": "stdout",
     "output_type": "stream",
     "text": [
      "harry potter harry potter harry potter harry potter harry potter harry potter harry potter harry potter harry potter harry potter \n"
     ]
    }
   ],
   "source": [
    "print(czarodziej*10)"
   ]
  },
  {
   "cell_type": "markdown",
   "metadata": {},
   "source": [
    "### input()"
   ]
  },
  {
   "cell_type": "markdown",
   "metadata": {},
   "source": [
    "input() – sluzy do pobierania tekstu od użytkownika"
   ]
  },
  {
   "cell_type": "code",
   "execution_count": 14,
   "metadata": {
    "ExecuteTime": {
     "end_time": "2023-06-30T11:01:15.863158Z",
     "start_time": "2023-06-30T11:01:10.874470Z"
    }
   },
   "outputs": [
    {
     "name": "stdout",
     "output_type": "stream",
     "text": [
      "Jak masz na imie?\n",
      "Maciej\n",
      "Czesc Maciej !\n",
      "Jak sie masz?\n"
     ]
    }
   ],
   "source": [
    "imie= input(\"Jak masz na imie?\\n\")\n",
    "print(\"Czesc\", imie,\"!\\nJak sie masz?\")"
   ]
  },
  {
   "cell_type": "markdown",
   "metadata": {},
   "source": [
    "### Upper, lower, etc."
   ]
  },
  {
   "cell_type": "markdown",
   "metadata": {},
   "source": [
    "Przydatne operacje na łańcuchach"
   ]
  },
  {
   "cell_type": "code",
   "execution_count": 15,
   "metadata": {
    "ExecuteTime": {
     "end_time": "2023-06-30T11:01:15.869896Z",
     "start_time": "2023-06-30T11:01:15.866620Z"
    }
   },
   "outputs": [],
   "source": [
    "zdanie=\"Dzis nauczymy sie programowac w Pytanie\""
   ]
  },
  {
   "cell_type": "code",
   "execution_count": 16,
   "metadata": {
    "ExecuteTime": {
     "end_time": "2023-06-30T11:01:15.976923Z",
     "start_time": "2023-06-30T11:01:15.871862Z"
    }
   },
   "outputs": [
    {
     "name": "stdout",
     "output_type": "stream",
     "text": [
      "DZIS NAUCZYMY SIE PROGRAMOWAC W PYTANIE\n"
     ]
    }
   ],
   "source": [
    "print(zdanie.upper())\n"
   ]
  },
  {
   "cell_type": "code",
   "execution_count": 17,
   "metadata": {
    "ExecuteTime": {
     "end_time": "2023-06-30T11:01:16.089311Z",
     "start_time": "2023-06-30T11:01:15.982316Z"
    }
   },
   "outputs": [
    {
     "name": "stdout",
     "output_type": "stream",
     "text": [
      "dzis nauczymy sie programowac w pytanie\n"
     ]
    }
   ],
   "source": [
    "print(zdanie.lower())"
   ]
  },
  {
   "cell_type": "code",
   "execution_count": 18,
   "metadata": {
    "ExecuteTime": {
     "end_time": "2023-06-30T11:01:16.187178Z",
     "start_time": "2023-06-30T11:01:16.091504Z"
    }
   },
   "outputs": [
    {
     "name": "stdout",
     "output_type": "stream",
     "text": [
      "dZIS NAUCZYMY SIE PROGRAMOWAC W pYTANIE\n"
     ]
    }
   ],
   "source": [
    "print(zdanie.swapcase())"
   ]
  },
  {
   "cell_type": "code",
   "execution_count": 19,
   "metadata": {
    "ExecuteTime": {
     "end_time": "2023-06-30T11:01:16.293288Z",
     "start_time": "2023-06-30T11:01:16.190012Z"
    }
   },
   "outputs": [
    {
     "name": "stdout",
     "output_type": "stream",
     "text": [
      "Dzis Nauczymy Sie Programowac W Pytanie\n"
     ]
    }
   ],
   "source": [
    "print(zdanie.title())"
   ]
  },
  {
   "cell_type": "code",
   "execution_count": 20,
   "metadata": {
    "ExecuteTime": {
     "end_time": "2023-06-30T11:01:16.398587Z",
     "start_time": "2023-06-30T11:01:16.298298Z"
    }
   },
   "outputs": [],
   "source": [
    "# fstrings\n",
    "\n",
    "wiek = 25\n",
    "hobby = 'ksiazki'\n",
    "wiadomosc = f\"Mam {wiek} lat i lubie {hobby}\""
   ]
  },
  {
   "cell_type": "code",
   "execution_count": 21,
   "metadata": {
    "ExecuteTime": {
     "end_time": "2023-06-30T11:01:16.495565Z",
     "start_time": "2023-06-30T11:01:16.402624Z"
    }
   },
   "outputs": [
    {
     "name": "stdout",
     "output_type": "stream",
     "text": [
      "Mam 25 lat i lubie ksiazki\n"
     ]
    }
   ],
   "source": [
    "print(wiadomosc)"
   ]
  },
  {
   "cell_type": "markdown",
   "metadata": {},
   "source": [
    "Zadanie\n",
    "\n",
    "1. Wpisz swoj wiek i swoje hobby\n",
    "2. zaaplikuj f-string na zmiennych wiek i hobby"
   ]
  },
  {
   "cell_type": "code",
   "execution_count": null,
   "metadata": {},
   "outputs": [],
   "source": []
  },
  {
   "cell_type": "code",
   "execution_count": null,
   "metadata": {},
   "outputs": [],
   "source": []
  },
  {
   "cell_type": "markdown",
   "metadata": {},
   "source": [
    "## Liczby "
   ]
  },
  {
   "cell_type": "markdown",
   "metadata": {},
   "source": [
    "### Dodawanie"
   ]
  },
  {
   "cell_type": "code",
   "execution_count": 22,
   "metadata": {
    "ExecuteTime": {
     "end_time": "2023-06-30T11:01:16.605067Z",
     "start_time": "2023-06-30T11:01:16.499847Z"
    },
    "scrolled": true
   },
   "outputs": [
    {
     "name": "stdout",
     "output_type": "stream",
     "text": [
      "5\n",
      "5.0\n"
     ]
    }
   ],
   "source": [
    "# integers\n",
    "a = 2\n",
    "b = 3\n",
    "c = a + b\n",
    "\n",
    "print(c)\n",
    "\n",
    "# floats\n",
    "# jak rozni sie zapis tych dwoch liczb\n",
    "\n",
    "x = 2.0\n",
    "y = 3.0\n",
    "z = x + y\n",
    "\n",
    "print(z)"
   ]
  },
  {
   "cell_type": "markdown",
   "metadata": {},
   "source": [
    "### Porownania"
   ]
  },
  {
   "cell_type": "code",
   "execution_count": 23,
   "metadata": {
    "ExecuteTime": {
     "end_time": "2023-06-30T11:01:16.705799Z",
     "start_time": "2023-06-30T11:01:16.610095Z"
    }
   },
   "outputs": [
    {
     "data": {
      "text/plain": [
       "True"
      ]
     },
     "execution_count": 23,
     "metadata": {},
     "output_type": "execute_result"
    }
   ],
   "source": [
    "# Aby sprawdzic czy dwie liczby sa sobie rowne stosujemy ==\n",
    "c == z"
   ]
  },
  {
   "cell_type": "code",
   "execution_count": 24,
   "metadata": {
    "ExecuteTime": {
     "end_time": "2023-06-30T11:01:16.813762Z",
     "start_time": "2023-06-30T11:01:16.709434Z"
    }
   },
   "outputs": [
    {
     "data": {
      "text/plain": [
       "False"
      ]
     },
     "execution_count": 24,
     "metadata": {},
     "output_type": "execute_result"
    }
   ],
   "source": [
    "# czy 2 > 3?\n",
    "a > b"
   ]
  },
  {
   "cell_type": "code",
   "execution_count": 25,
   "metadata": {
    "ExecuteTime": {
     "end_time": "2023-06-30T11:01:16.923717Z",
     "start_time": "2023-06-30T11:01:16.816390Z"
    }
   },
   "outputs": [
    {
     "data": {
      "text/plain": [
       "True"
      ]
     },
     "execution_count": 25,
     "metadata": {},
     "output_type": "execute_result"
    }
   ],
   "source": [
    "# czy 2.0 jest wieksze badz rowne 5.0 odjac 3.0?\n",
    "# zwroccie uwage na kolejnosc dzialania Pythona\n",
    "\n",
    "x >= z - y"
   ]
  },
  {
   "cell_type": "markdown",
   "metadata": {},
   "source": [
    "### Odejmowanie "
   ]
  },
  {
   "cell_type": "code",
   "execution_count": 26,
   "metadata": {
    "ExecuteTime": {
     "end_time": "2023-06-30T11:01:17.039264Z",
     "start_time": "2023-06-30T11:01:16.929169Z"
    }
   },
   "outputs": [
    {
     "data": {
      "text/plain": [
       "-1"
      ]
     },
     "execution_count": 26,
     "metadata": {},
     "output_type": "execute_result"
    }
   ],
   "source": [
    "# liczby moga byc ujemne, bez problemu\n",
    "\n",
    "a - b"
   ]
  },
  {
   "cell_type": "code",
   "execution_count": 27,
   "metadata": {
    "ExecuteTime": {
     "end_time": "2023-06-30T11:01:17.138678Z",
     "start_time": "2023-06-30T11:01:17.042473Z"
    }
   },
   "outputs": [
    {
     "data": {
      "text/plain": [
       "1.0"
      ]
     },
     "execution_count": 27,
     "metadata": {},
     "output_type": "execute_result"
    }
   ],
   "source": [
    "y - x"
   ]
  },
  {
   "cell_type": "markdown",
   "metadata": {},
   "source": [
    "### Mnozenie"
   ]
  },
  {
   "cell_type": "code",
   "execution_count": 28,
   "metadata": {
    "ExecuteTime": {
     "end_time": "2023-06-30T11:01:17.246773Z",
     "start_time": "2023-06-30T11:01:17.142140Z"
    }
   },
   "outputs": [
    {
     "data": {
      "text/plain": [
       "6"
      ]
     },
     "execution_count": 28,
     "metadata": {},
     "output_type": "execute_result"
    }
   ],
   "source": [
    "# dla prostych obliczen nie trzeba printa\n",
    "\n",
    "a*b"
   ]
  },
  {
   "cell_type": "code",
   "execution_count": 29,
   "metadata": {
    "ExecuteTime": {
     "end_time": "2023-06-30T11:01:17.349242Z",
     "start_time": "2023-06-30T11:01:17.253643Z"
    }
   },
   "outputs": [
    {
     "data": {
      "text/plain": [
       "30.0"
      ]
     },
     "execution_count": 29,
     "metadata": {},
     "output_type": "execute_result"
    }
   ],
   "source": [
    "# mozemy wykonywac wiele operacji na raz\n",
    "\n",
    "x*y*z"
   ]
  },
  {
   "cell_type": "code",
   "execution_count": 30,
   "metadata": {
    "ExecuteTime": {
     "end_time": "2023-06-30T11:01:17.451857Z",
     "start_time": "2023-06-30T11:01:17.354250Z"
    }
   },
   "outputs": [
    {
     "data": {
      "text/plain": [
       "25.0"
      ]
     },
     "execution_count": 30,
     "metadata": {},
     "output_type": "execute_result"
    }
   ],
   "source": [
    "# dla powiedzenia pythonowi ktore dzialania maja byc wykonane pierwsze, stosujemy nawiasy\n",
    "\n",
    "(x+y)*z"
   ]
  },
  {
   "cell_type": "code",
   "execution_count": 31,
   "metadata": {
    "ExecuteTime": {
     "end_time": "2023-06-30T11:01:17.549493Z",
     "start_time": "2023-06-30T11:01:17.455393Z"
    }
   },
   "outputs": [
    {
     "data": {
      "text/plain": [
       "2.0"
      ]
     },
     "execution_count": 31,
     "metadata": {},
     "output_type": "execute_result"
    }
   ],
   "source": [
    "# wynik z dzialania na liczbie calkowitej (int) i wymiernej (float) daje nam liczbe wymierna (float)\n",
    "\n",
    "a + 0.0"
   ]
  },
  {
   "cell_type": "markdown",
   "metadata": {},
   "source": [
    "### Dzielenie "
   ]
  },
  {
   "cell_type": "code",
   "execution_count": 32,
   "metadata": {
    "ExecuteTime": {
     "end_time": "2023-06-30T11:01:17.655360Z",
     "start_time": "2023-06-30T11:01:17.552929Z"
    }
   },
   "outputs": [
    {
     "data": {
      "text/plain": [
       "0.6666666666666666"
      ]
     },
     "execution_count": 32,
     "metadata": {},
     "output_type": "execute_result"
    }
   ],
   "source": [
    "d = a/b\n",
    "d"
   ]
  },
  {
   "cell_type": "code",
   "execution_count": 33,
   "metadata": {
    "ExecuteTime": {
     "end_time": "2023-06-30T11:01:17.763488Z",
     "start_time": "2023-06-30T11:01:17.665350Z"
    }
   },
   "outputs": [
    {
     "data": {
      "text/plain": [
       "0.6666666666666666"
      ]
     },
     "execution_count": 33,
     "metadata": {},
     "output_type": "execute_result"
    }
   ],
   "source": [
    "x/y"
   ]
  },
  {
   "cell_type": "markdown",
   "metadata": {},
   "source": [
    "### Potegowanie"
   ]
  },
  {
   "cell_type": "code",
   "execution_count": 34,
   "metadata": {
    "ExecuteTime": {
     "end_time": "2023-06-30T11:01:17.864049Z",
     "start_time": "2023-06-30T11:01:17.767132Z"
    }
   },
   "outputs": [
    {
     "data": {
      "text/plain": [
       "8"
      ]
     },
     "execution_count": 34,
     "metadata": {},
     "output_type": "execute_result"
    }
   ],
   "source": [
    "a**b"
   ]
  },
  {
   "cell_type": "code",
   "execution_count": 35,
   "metadata": {
    "ExecuteTime": {
     "end_time": "2023-06-30T11:01:17.959540Z",
     "start_time": "2023-06-30T11:01:17.866290Z"
    }
   },
   "outputs": [
    {
     "data": {
      "text/plain": [
       "8.0"
      ]
     },
     "execution_count": 35,
     "metadata": {},
     "output_type": "execute_result"
    }
   ],
   "source": [
    "x**y"
   ]
  },
  {
   "cell_type": "markdown",
   "metadata": {},
   "source": [
    "### Konwersja"
   ]
  },
  {
   "cell_type": "code",
   "execution_count": 36,
   "metadata": {
    "ExecuteTime": {
     "end_time": "2023-06-30T11:01:18.052821Z",
     "start_time": "2023-06-30T11:01:17.962591Z"
    }
   },
   "outputs": [
    {
     "data": {
      "text/plain": [
       "float"
      ]
     },
     "execution_count": 36,
     "metadata": {},
     "output_type": "execute_result"
    }
   ],
   "source": [
    "# do sprawdzenia czy liczba jest int'em czy float'em stosujemy type()\n",
    "type(d)"
   ]
  },
  {
   "cell_type": "code",
   "execution_count": 37,
   "metadata": {
    "ExecuteTime": {
     "end_time": "2023-06-30T11:01:18.146059Z",
     "start_time": "2023-06-30T11:01:18.055389Z"
    }
   },
   "outputs": [
    {
     "data": {
      "text/plain": [
       "(float, 0.6666666666666666)"
      ]
     },
     "execution_count": 37,
     "metadata": {},
     "output_type": "execute_result"
    }
   ],
   "source": [
    "type(d), d"
   ]
  },
  {
   "cell_type": "code",
   "execution_count": 38,
   "metadata": {
    "ExecuteTime": {
     "end_time": "2023-06-30T11:01:18.238535Z",
     "start_time": "2023-06-30T11:01:18.148779Z"
    }
   },
   "outputs": [],
   "source": [
    "# do zmiany typu liczby stosujemy odpowiednio int() lub float()"
   ]
  },
  {
   "cell_type": "code",
   "execution_count": 39,
   "metadata": {
    "ExecuteTime": {
     "end_time": "2023-06-30T11:01:18.335188Z",
     "start_time": "2023-06-30T11:01:18.245070Z"
    }
   },
   "outputs": [
    {
     "data": {
      "text/plain": [
       "5"
      ]
     },
     "execution_count": 39,
     "metadata": {},
     "output_type": "execute_result"
    }
   ],
   "source": [
    "int(z)"
   ]
  },
  {
   "cell_type": "code",
   "execution_count": 40,
   "metadata": {
    "ExecuteTime": {
     "end_time": "2023-06-30T11:01:18.430854Z",
     "start_time": "2023-06-30T11:01:18.337966Z"
    }
   },
   "outputs": [
    {
     "data": {
      "text/plain": [
       "3.0"
      ]
     },
     "execution_count": 40,
     "metadata": {},
     "output_type": "execute_result"
    }
   ],
   "source": [
    "float(b)"
   ]
  },
  {
   "cell_type": "code",
   "execution_count": 41,
   "metadata": {
    "ExecuteTime": {
     "end_time": "2023-06-30T11:01:18.528699Z",
     "start_time": "2023-06-30T11:01:18.433619Z"
    }
   },
   "outputs": [
    {
     "data": {
      "text/plain": [
       "0"
      ]
     },
     "execution_count": 41,
     "metadata": {},
     "output_type": "execute_result"
    }
   ],
   "source": [
    "# co z ulamkami, czyli z czescia za przecinkiem?\n",
    "\n",
    "int(d)"
   ]
  },
  {
   "cell_type": "code",
   "execution_count": 42,
   "metadata": {
    "ExecuteTime": {
     "end_time": "2023-06-30T11:01:18.624154Z",
     "start_time": "2023-06-30T11:01:18.531000Z"
    }
   },
   "outputs": [
    {
     "data": {
      "text/plain": [
       "1"
      ]
     },
     "execution_count": 42,
     "metadata": {},
     "output_type": "execute_result"
    }
   ],
   "source": [
    "# do 'poprawnego' zaokraglania stosujemy round()\n",
    "\n",
    "round(d)"
   ]
  },
  {
   "cell_type": "code",
   "execution_count": 43,
   "metadata": {
    "ExecuteTime": {
     "end_time": "2023-06-30T11:01:18.719353Z",
     "start_time": "2023-06-30T11:01:18.631156Z"
    }
   },
   "outputs": [
    {
     "data": {
      "text/plain": [
       "0.67"
      ]
     },
     "execution_count": 43,
     "metadata": {},
     "output_type": "execute_result"
    }
   ],
   "source": [
    "# round(liczba, miejsca po przecinku)\n",
    "\n",
    "round(d,2)"
   ]
  },
  {
   "cell_type": "markdown",
   "metadata": {},
   "source": [
    "### Modulo"
   ]
  },
  {
   "cell_type": "markdown",
   "metadata": {},
   "source": [
    "Dodatkowo, jako ciekawostka"
   ]
  },
  {
   "cell_type": "code",
   "execution_count": 44,
   "metadata": {
    "ExecuteTime": {
     "end_time": "2023-06-30T11:01:18.817528Z",
     "start_time": "2023-06-30T11:01:18.721405Z"
    }
   },
   "outputs": [
    {
     "data": {
      "text/plain": [
       "2"
      ]
     },
     "execution_count": 44,
     "metadata": {},
     "output_type": "execute_result"
    }
   ],
   "source": [
    "# reszta z dzielenia 2 przez 3\n",
    "a%b"
   ]
  },
  {
   "cell_type": "code",
   "execution_count": 45,
   "metadata": {
    "ExecuteTime": {
     "end_time": "2023-06-30T11:01:18.928729Z",
     "start_time": "2023-06-30T11:01:18.820092Z"
    },
    "scrolled": true
   },
   "outputs": [
    {
     "data": {
      "text/plain": [
       "1"
      ]
     },
     "execution_count": 45,
     "metadata": {},
     "output_type": "execute_result"
    }
   ],
   "source": [
    "# reszta z dzielenia 5 przez 2\n",
    "c%a"
   ]
  },
  {
   "cell_type": "code",
   "execution_count": 46,
   "metadata": {
    "ExecuteTime": {
     "end_time": "2023-06-30T11:01:19.030816Z",
     "start_time": "2023-06-30T11:01:18.931367Z"
    }
   },
   "outputs": [
    {
     "data": {
      "text/plain": [
       "1.0"
      ]
     },
     "execution_count": 46,
     "metadata": {},
     "output_type": "execute_result"
    }
   ],
   "source": [
    "z%x"
   ]
  },
  {
   "cell_type": "markdown",
   "metadata": {},
   "source": [
    "Do czego moze sie to wlasciwie przydac?"
   ]
  },
  {
   "cell_type": "code",
   "execution_count": 47,
   "metadata": {
    "ExecuteTime": {
     "end_time": "2023-06-30T11:01:19.130532Z",
     "start_time": "2023-06-30T11:01:19.033783Z"
    }
   },
   "outputs": [
    {
     "data": {
      "text/plain": [
       "True"
      ]
     },
     "execution_count": 47,
     "metadata": {},
     "output_type": "execute_result"
    }
   ],
   "source": [
    "# Do sprawdzenia czy liczba jest parzysta/nieparzysta\n",
    "\n",
    "# czy reszta z dzielenia 4 przez 2 jest rowna 0, tzn czy liczba dzieli sie przez 2?\n",
    "\n",
    "4%2 == 0"
   ]
  },
  {
   "cell_type": "code",
   "execution_count": 48,
   "metadata": {
    "ExecuteTime": {
     "end_time": "2023-06-30T11:01:19.232729Z",
     "start_time": "2023-06-30T11:01:19.134601Z"
    }
   },
   "outputs": [
    {
     "data": {
      "text/plain": [
       "False"
      ]
     },
     "execution_count": 48,
     "metadata": {},
     "output_type": "execute_result"
    }
   ],
   "source": [
    "# czy reszta z dzielenia 5 przez 2 jest rowna 0\n",
    "# jezeli nie to liczba nie dzieli sie przez 2, tzn jest nieparzysta\n",
    "\n",
    "5%2 == 0"
   ]
  },
  {
   "cell_type": "code",
   "execution_count": 49,
   "metadata": {
    "ExecuteTime": {
     "end_time": "2023-06-30T11:01:19.331697Z",
     "start_time": "2023-06-30T11:01:19.234956Z"
    }
   },
   "outputs": [],
   "source": [
    "# w przypadkach powyzej: \n",
    "# True -> parzysta\n",
    "# False -> nieparzysta"
   ]
  },
  {
   "cell_type": "code",
   "execution_count": null,
   "metadata": {},
   "outputs": [],
   "source": []
  },
  {
   "cell_type": "markdown",
   "metadata": {
    "ExecuteTime": {
     "end_time": "2023-06-30T10:59:25.568780Z",
     "start_time": "2023-06-30T10:59:25.559803Z"
    }
   },
   "source": [
    "## Listy"
   ]
  },
  {
   "cell_type": "code",
   "execution_count": 50,
   "metadata": {
    "ExecuteTime": {
     "end_time": "2023-06-30T11:01:19.431591Z",
     "start_time": "2023-06-30T11:01:19.334127Z"
    }
   },
   "outputs": [],
   "source": [
    "lista_zakupow = [\n",
    "    \"Nogi pająka\", \"palec żaby\", \"skrzydło nietoperza\", \"masło ślimaka\",\n",
    "    \"łupież węża\"\n",
    "]"
   ]
  },
  {
   "cell_type": "code",
   "execution_count": 51,
   "metadata": {
    "ExecuteTime": {
     "end_time": "2023-06-30T11:01:19.534551Z",
     "start_time": "2023-06-30T11:01:19.433626Z"
    }
   },
   "outputs": [
    {
     "name": "stdout",
     "output_type": "stream",
     "text": [
      "['Nogi pająka', 'palec żaby', 'skrzydło nietoperza', 'masło ślimaka', 'łupież węża']\n"
     ]
    }
   ],
   "source": [
    "print(lista_zakupow)"
   ]
  },
  {
   "cell_type": "code",
   "execution_count": 52,
   "metadata": {
    "ExecuteTime": {
     "end_time": "2023-06-30T11:01:19.639374Z",
     "start_time": "2023-06-30T11:01:19.536967Z"
    }
   },
   "outputs": [
    {
     "name": "stdout",
     "output_type": "stream",
     "text": [
      "skrzydło nietoperza\n"
     ]
    }
   ],
   "source": [
    "print(lista_zakupow[2])\n"
   ]
  },
  {
   "cell_type": "code",
   "execution_count": 53,
   "metadata": {
    "ExecuteTime": {
     "end_time": "2023-06-30T11:01:19.747439Z",
     "start_time": "2023-06-30T11:01:19.644708Z"
    }
   },
   "outputs": [
    {
     "name": "stdout",
     "output_type": "stream",
     "text": [
      "['skrzydło nietoperza', 'masło ślimaka', 'łupież węża']\n"
     ]
    }
   ],
   "source": [
    "# wycinek listy\n",
    "\n",
    "print(lista_zakupow[2:5])\n"
   ]
  },
  {
   "cell_type": "code",
   "execution_count": 54,
   "metadata": {
    "ExecuteTime": {
     "end_time": "2023-06-30T11:01:19.849509Z",
     "start_time": "2023-06-30T11:01:19.749291Z"
    }
   },
   "outputs": [
    {
     "data": {
      "text/plain": [
       "['Nogi pająka',\n",
       " 'palec żaby',\n",
       " 'wywar z ksiezyca',\n",
       " 'masło ślimaka',\n",
       " 'łupież węża']"
      ]
     },
     "execution_count": 54,
     "metadata": {},
     "output_type": "execute_result"
    }
   ],
   "source": [
    "# listy sa modyfikowalne\n",
    "lista_zakupow[2] = \"wywar z ksiezyca\"\n",
    "lista_zakupow"
   ]
  },
  {
   "cell_type": "code",
   "execution_count": 55,
   "metadata": {
    "ExecuteTime": {
     "end_time": "2023-06-30T11:01:19.949216Z",
     "start_time": "2023-06-30T11:01:19.851572Z"
    }
   },
   "outputs": [
    {
     "data": {
      "text/plain": [
       "['Nogi pająka',\n",
       " 'palec żaby',\n",
       " 'wywar z ksiezyca',\n",
       " 'masło ślimaka',\n",
       " 'łupież węża',\n",
       " 'czekolada',\n",
       " 'magiczne katy']"
      ]
     },
     "execution_count": 55,
     "metadata": {},
     "output_type": "execute_result"
    }
   ],
   "source": [
    "# Listy mozna laczyc\n",
    "\n",
    "zakupy_czarownicy = [\"czekolada\", \"magiczne katy\"]\n",
    "magiczne_zakupy = lista_zakupow + zakupy_czarownicy\n",
    "\n",
    "magiczne_zakupy"
   ]
  },
  {
   "cell_type": "code",
   "execution_count": 56,
   "metadata": {
    "ExecuteTime": {
     "end_time": "2023-06-30T11:01:20.049432Z",
     "start_time": "2023-06-30T11:01:19.963830Z"
    }
   },
   "outputs": [],
   "source": [
    "#Listy numeryczne\n",
    "\n",
    "lista_1 = [1, 2, 3]"
   ]
  },
  {
   "cell_type": "code",
   "execution_count": 57,
   "metadata": {
    "ExecuteTime": {
     "end_time": "2023-06-30T11:01:20.148326Z",
     "start_time": "2023-06-30T11:01:20.053616Z"
    }
   },
   "outputs": [
    {
     "data": {
      "text/plain": [
       "[1, 2, 3, 1, 2, 3, 1, 2, 3]"
      ]
     },
     "execution_count": 57,
     "metadata": {},
     "output_type": "execute_result"
    }
   ],
   "source": [
    "lista_1 * 3"
   ]
  },
  {
   "cell_type": "code",
   "execution_count": 58,
   "metadata": {
    "ExecuteTime": {
     "end_time": "2023-06-30T11:01:20.357696Z",
     "start_time": "2023-06-30T11:01:20.150725Z"
    },
    "scrolled": true
   },
   "outputs": [
    {
     "ename": "TypeError",
     "evalue": "can only concatenate list (not \"int\") to list",
     "output_type": "error",
     "traceback": [
      "\u001b[0;31m---------------------------------------------------------------------------\u001b[0m",
      "\u001b[0;31mTypeError\u001b[0m                                 Traceback (most recent call last)",
      "\u001b[0;32m<ipython-input-58-8df5f1c75e7e>\u001b[0m in \u001b[0;36m<module>\u001b[0;34m\u001b[0m\n\u001b[1;32m      1\u001b[0m \u001b[0;31m# a jakby tak dodac 20\u001b[0m\u001b[0;34m\u001b[0m\u001b[0;34m\u001b[0m\u001b[0;34m\u001b[0m\u001b[0m\n\u001b[1;32m      2\u001b[0m \u001b[0;34m\u001b[0m\u001b[0m\n\u001b[0;32m----> 3\u001b[0;31m \u001b[0mlista_1\u001b[0m \u001b[0;34m+\u001b[0m \u001b[0;36m20\u001b[0m\u001b[0;34m\u001b[0m\u001b[0;34m\u001b[0m\u001b[0m\n\u001b[0m",
      "\u001b[0;31mTypeError\u001b[0m: can only concatenate list (not \"int\") to list"
     ]
    }
   ],
   "source": [
    "# a jakby tak dodac 20\n",
    "\n",
    "lista_1 + 20"
   ]
  },
  {
   "cell_type": "code",
   "execution_count": null,
   "metadata": {},
   "outputs": [],
   "source": []
  },
  {
   "cell_type": "markdown",
   "metadata": {},
   "source": [
    "## Slowniki"
   ]
  },
  {
   "cell_type": "code",
   "execution_count": null,
   "metadata": {
    "ExecuteTime": {
     "end_time": "2023-06-30T11:01:20.360276Z",
     "start_time": "2023-06-30T11:01:09.723Z"
    }
   },
   "outputs": [],
   "source": [
    "reprezentacja_pol = {\n",
    " 'Szczęsny Wojciech': 1,\n",
    " 'Kędziora Tomasz': 4, 'Bednarek Jan': 5, 'Kiwior Jakub': 14,\n",
    " 'Frankowski Przemysław': 19, 'Szymański Damian': 17, 'Zieliński Piotr': 20, 'Szymański Sebastian': 10, 'Zalewski Nicola': 21,\n",
    " 'Lewandowski Robert': 9, 'Milik Arkadiusz': 7\n",
    "}"
   ]
  },
  {
   "cell_type": "code",
   "execution_count": null,
   "metadata": {
    "ExecuteTime": {
     "end_time": "2023-06-30T11:01:20.361731Z",
     "start_time": "2023-06-30T11:01:09.725Z"
    }
   },
   "outputs": [],
   "source": [
    "imiona_nazwiska = list(reprezentacja_pol.keys()) # bo nazwiska i imiona to klucze\n",
    "numery_koszulek = list(reprezentacja_pol.values()) # bo numery koszulek to wartosci"
   ]
  },
  {
   "cell_type": "code",
   "execution_count": null,
   "metadata": {
    "ExecuteTime": {
     "end_time": "2023-06-30T11:01:20.362948Z",
     "start_time": "2023-06-30T11:01:09.726Z"
    }
   },
   "outputs": [],
   "source": [
    "imiona_nazwiska"
   ]
  },
  {
   "cell_type": "code",
   "execution_count": null,
   "metadata": {
    "ExecuteTime": {
     "end_time": "2023-06-30T11:01:20.364367Z",
     "start_time": "2023-06-30T11:01:09.728Z"
    },
    "scrolled": true
   },
   "outputs": [],
   "source": [
    "numery_koszulek"
   ]
  },
  {
   "cell_type": "code",
   "execution_count": null,
   "metadata": {
    "ExecuteTime": {
     "end_time": "2023-06-30T11:01:20.366813Z",
     "start_time": "2023-06-30T11:01:09.729Z"
    }
   },
   "outputs": [],
   "source": [
    "reprezentacja_pol.update({'Bereszyński Bartosz': 18})\n",
    "reprezentacja_pol\n",
    "\n",
    "# 8. Karol Linetty\n",
    "# 13. Jakub Kamiński\n",
    "# 11. Karol Świderski"
   ]
  },
  {
   "cell_type": "code",
   "execution_count": null,
   "metadata": {
    "ExecuteTime": {
     "end_time": "2023-06-30T11:01:20.367836Z",
     "start_time": "2023-06-30T11:01:09.731Z"
    }
   },
   "outputs": [],
   "source": [
    "reprezentacja_pol.pop('Frankowski Przemysław')"
   ]
  },
  {
   "cell_type": "code",
   "execution_count": null,
   "metadata": {
    "ExecuteTime": {
     "end_time": "2023-06-30T11:01:20.370199Z",
     "start_time": "2023-06-30T11:01:09.732Z"
    }
   },
   "outputs": [],
   "source": [
    "reprezentacja_pol"
   ]
  }
 ],
 "metadata": {
  "kernelspec": {
   "display_name": "Python 3",
   "language": "python",
   "name": "python3"
  },
  "language_info": {
   "codemirror_mode": {
    "name": "ipython",
    "version": 3
   },
   "file_extension": ".py",
   "mimetype": "text/x-python",
   "name": "python",
   "nbconvert_exporter": "python",
   "pygments_lexer": "ipython3",
   "version": "3.6.5"
  },
  "toc": {
   "base_numbering": 1,
   "nav_menu": {},
   "number_sections": true,
   "sideBar": true,
   "skip_h1_title": false,
   "title_cell": "Table of Contents",
   "title_sidebar": "Contents",
   "toc_cell": false,
   "toc_position": {},
   "toc_section_display": true,
   "toc_window_display": true
  },
  "varInspector": {
   "cols": {
    "lenName": 16,
    "lenType": 16,
    "lenVar": 40
   },
   "kernels_config": {
    "python": {
     "delete_cmd_postfix": "",
     "delete_cmd_prefix": "del ",
     "library": "var_list.py",
     "varRefreshCmd": "print(var_dic_list())"
    },
    "r": {
     "delete_cmd_postfix": ") ",
     "delete_cmd_prefix": "rm(",
     "library": "var_list.r",
     "varRefreshCmd": "cat(var_dic_list()) "
    }
   },
   "types_to_exclude": [
    "module",
    "function",
    "builtin_function_or_method",
    "instance",
    "_Feature"
   ],
   "window_display": false
  }
 },
 "nbformat": 4,
 "nbformat_minor": 2
}
