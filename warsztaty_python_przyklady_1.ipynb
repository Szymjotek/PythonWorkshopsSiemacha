{
 "cells": [
  {
   "cell_type": "code",
   "execution_count": null,
   "metadata": {},
   "outputs": [],
   "source": [
    "# Papier, Kamien, Nozyce\n",
    "\n",
    "from random import randint\n",
    "\n",
    "def papier_kamien_nozyce():\n",
    "\n",
    "    #create a list of play options\n",
    "    t = [\"kamien\", \"papier\", \"nozyce\"]\n",
    "\n",
    "    #assign a random play to the computer\n",
    "    computer = t[randint(0,2)]\n",
    "\n",
    "    #set player to False\n",
    "    player = True\n",
    "    player_score, computer_score = 0,0\n",
    "\n",
    "    while player:\n",
    "\n",
    "        player = input(\"Kamien, Papier, Nozyce? \").lower()\n",
    "        if player == computer:\n",
    "            print(\"Remis!\")\n",
    "        elif player.lower() == \"kamien\":\n",
    "            if computer == \"papier\":\n",
    "                print(\"Przegralas/przegrales...!\", computer, \"pokrywa\", player)\n",
    "                computer_score+=1\n",
    "            else:\n",
    "                print(\"Wygralas/wygrales!\", player, \"niszczy\", computer)\n",
    "                player_score+=1\n",
    "        elif player.lower()  == \"papier\":\n",
    "            if computer == \"nozyce\":\n",
    "                print(\"Przegralas/przegrales...\", computer, \"tna\", player)\n",
    "                computer_score+=1\n",
    "            else:\n",
    "                print(\"Wygralas/wygrales!\", player, \"pokrywa\", computer)\n",
    "                player_score+=1\n",
    "        elif player.lower()  == \"nozyce\":\n",
    "            if computer == \"kamien\":\n",
    "                print(\"Przegralas/przegrales...\", computer, \"niszczy\", player)\n",
    "                computer_score+=1\n",
    "            else:\n",
    "                print(\"Wygralas/wygrales!\", player, \"tna\", computer)\n",
    "                player_score+=1\n",
    "        else:\n",
    "            print(\"Cos poszlo nie tak - sprawdz czy nie ma literowki!\")\n",
    "\n",
    "        #player was set to True, but we want it to be False so the loop continues\n",
    "        print(f\"Jest {player_score}:{computer_score}. Czy grasz dalej? Nacisnij T lub N.\")\n",
    "        player = True if input().lower()[0] == 't' else False\n",
    "        computer = t[randint(0,2)]"
   ]
  },
  {
   "cell_type": "code",
   "execution_count": null,
   "metadata": {},
   "outputs": [],
   "source": [
    "# Birthday guessing based on the binary search algo\n",
    "\n",
    "def ask_question_and_grab_input(text):\n",
    "    print(text)\n",
    "    if input().lower()[0] == 't':\n",
    "        return True\n",
    "    else:\n",
    "        return False \n",
    "\n",
    "def binary_search_w_asking(arr, month='', count=5):\n",
    "    low = arr[0]\n",
    "    high = arr[-1]\n",
    "    mid = 0\n",
    "    count = count\n",
    " \n",
    "    while high - low > 1:\n",
    "\n",
    "        mid = (high + low) // 2\n",
    "\n",
    "        lower_than_mid = ask_question_and_grab_input(f\"#{count} Czy masz urodziny {mid} {month} lub wczesniej? Odpowiedz tak albo nie.\")\n",
    "\n",
    "        # If x is smaller, ignore right half\n",
    "        if lower_than_mid:\n",
    "            high = mid\n",
    "\n",
    "        # If x is greater, ignore left half\n",
    "        else:\n",
    "            low = mid + 1\n",
    "\n",
    "        count+=1\n",
    "    \n",
    "    if high - low == 1:\n",
    "        last_q = ask_question_and_grab_input(f\"Ostatnie pytanie, dla upewnienia - czy masz urodziny dokladnie {high} {month}? Odpowiedz tak albo nie.\")\n",
    "\n",
    "        if last_q:\n",
    "            day = high\n",
    "        else:\n",
    "            day = low\n",
    "\n",
    "    else:\n",
    "        day = high\n",
    "    \n",
    "    return day \n",
    " \n",
    "def zgadnij_urodziny(month=None):\n",
    "    print(\"Zgadne Twoja date urodzenia w dokladnie 9 krokach!\\nZaczynajmy!\")\n",
    "\n",
    "    def month_guess():\n",
    "                \n",
    "        # Month 1st question\n",
    "        warm_seasons = ask_question_and_grab_input(\"#1 Czy Twoje urodziny sa w ciepla pore roku (wiosna-lato)? Wpisz tak albo nie\")\n",
    "\n",
    "        # Month 2nd question\n",
    "        if warm_seasons: # warm seasons\n",
    "            season = ask_question_and_grab_input(\"#2 Czy Twoje urodziny sa wiosna (marzec/kwiecien/maj)? Wpisz tak albo nie\")\n",
    "            \n",
    "            # Month 3rd question - warm seasons\n",
    "            if season: # spring\n",
    "                mar = ask_question_and_grab_input(\"#3 Czy Twoje urodziny sa w marcu? Wpisz tak albo nie\")\n",
    "                \n",
    "                # Month 4th question - March vs other\n",
    "                if mar:\n",
    "                    month = 'marca'\n",
    "\n",
    "                else: # Month 5th question (optional)\n",
    "                    april = ask_question_and_grab_input(\"#4 Czy Twoje urodziny sa w kwietniu? Wpisz tak albo nie\")\n",
    "\n",
    "                    if april:\n",
    "                        month = 'kwietnia'\n",
    "                    else:\n",
    "                        print('No tak, masz urodziny w maju!')\n",
    "                        month = 'maja'\n",
    "\n",
    "            else: # summer\n",
    "                june = ask_question_and_grab_input(\"#3 Czy Twoje urodziny sa w czerwcu? Wpisz tak albo nie\")\n",
    "\n",
    "                # Month 4th question - June vs other\n",
    "                if june:\n",
    "                    month = 'czerwca'\n",
    "\n",
    "                else: # Month 5th question (optional)\n",
    "                    july = ask_question_and_grab_input(\"#4 Czy Twoje urodziny sa w lipcu? Wpisz tak albo nie\")\n",
    "\n",
    "                    if july:\n",
    "                        month = 'lipca'\n",
    "                    else:\n",
    "                        print('No tak, masz urodziny w sierpniu!')\n",
    "                        month = 'sierpnia'\n",
    "\n",
    "        else: # cold seasons\n",
    "            season = ask_question_and_grab_input(\"#2 Czy Twoje urodziny sa jesienia (wrzesien/pazdziernik/listopad)? Wpisz tak albo nie\")\n",
    "\n",
    "            # Month 3rd question - cold seasons\n",
    "            if season: # autumn\n",
    "                sept = ask_question_and_grab_input(\"#3 Czy Twoje urodziny sa we wrzesniu? Wpisz tak albo nie\")\n",
    "\n",
    "                # Month 4th question - Sept vs other\n",
    "                if sept:\n",
    "                    month = 'wrzesnia'\n",
    "\n",
    "                else: # Month 5th question (optional)\n",
    "                    nov = ask_question_and_grab_input(\"#4 Czy Twoje urodziny sa w pazdzierniku? Wpisz tak albo nie\")\n",
    "\n",
    "                    if nov:\n",
    "                        month = 'pazdziernika'\n",
    "                    else:\n",
    "                        print('No tak, masz urodziny w listopadzie!')\n",
    "                        month = 'listopada'\n",
    "\n",
    "            else: # winter\n",
    "                dec = ask_question_and_grab_input(\"#3 Czy Twoje urodziny sa w grudniu? Wpisz tak albo nie\")\n",
    "\n",
    "                # Month 4th question - June vs other\n",
    "                if dec:\n",
    "                    month = 'grudnia'\n",
    "\n",
    "                else: # Month 5th question (optional)\n",
    "                    jan = ask_question_and_grab_input(\"#4 Czy Twoje urodziny sa w styczniu? Wpisz tak albo nie\")\n",
    "\n",
    "                    if jan:\n",
    "                        month = 'stycznia'\n",
    "                    else:\n",
    "                        print('No tak, masz urodziny w lutym!')\n",
    "                        month = 'lutego'\n",
    "\n",
    "        return month\n",
    "    \n",
    "    def day_guess(month):\n",
    "        arr = [i for i in range(1,32)] # 1..31\n",
    "        return binary_search_w_asking(arr, month)\n",
    "\n",
    "    if not month:\n",
    "        month = month_guess()\n",
    "\n",
    "    day = day_guess(month)\n",
    "\n",
    "    print(f\"Masz urodziny {day} {month}!\")\n",
    "\n"
   ]
  },
  {
   "cell_type": "markdown",
   "metadata": {},
   "source": [
    "## Na dobry pocztek :)"
   ]
  },
  {
   "cell_type": "code",
   "execution_count": null,
   "metadata": {},
   "outputs": [],
   "source": [
    "zgadnij_urodziny()"
   ]
  },
  {
   "cell_type": "code",
   "execution_count": null,
   "metadata": {},
   "outputs": [],
   "source": [
    "papier_kamien_nozyce()"
   ]
  },
  {
   "cell_type": "markdown",
   "metadata": {},
   "source": [
    "## Print()"
   ]
  },
  {
   "cell_type": "markdown",
   "metadata": {},
   "source": [
    "print() – służy do wyświetlania wynikow na ekranie"
   ]
  },
  {
   "cell_type": "code",
   "execution_count": null,
   "metadata": {
    "ExecuteTime": {
     "end_time": "2023-06-30T11:01:09.622913Z",
     "start_time": "2023-06-30T11:01:09.618888Z"
    }
   },
   "outputs": [],
   "source": [
    "print(\"Hello World\")"
   ]
  },
  {
   "cell_type": "markdown",
   "metadata": {},
   "source": [
    "## Zmienne"
   ]
  },
  {
   "cell_type": "code",
   "execution_count": null,
   "metadata": {
    "ExecuteTime": {
     "end_time": "2023-06-30T11:01:09.755192Z",
     "start_time": "2023-06-30T11:01:09.625814Z"
    }
   },
   "outputs": [],
   "source": [
    "magda_wiek = 14"
   ]
  },
  {
   "cell_type": "code",
   "execution_count": null,
   "metadata": {
    "ExecuteTime": {
     "end_time": "2023-06-30T11:01:09.855407Z",
     "start_time": "2023-06-30T11:01:09.758029Z"
    }
   },
   "outputs": [],
   "source": [
    "print(magda_wiek)"
   ]
  },
  {
   "cell_type": "code",
   "execution_count": null,
   "metadata": {
    "ExecuteTime": {
     "end_time": "2023-06-30T11:01:09.969907Z",
     "start_time": "2023-06-30T11:01:09.858743Z"
    }
   },
   "outputs": [],
   "source": [
    "magda_wiek = 17"
   ]
  },
  {
   "cell_type": "code",
   "execution_count": null,
   "metadata": {
    "ExecuteTime": {
     "end_time": "2023-06-30T11:01:10.076275Z",
     "start_time": "2023-06-30T11:01:09.971814Z"
    }
   },
   "outputs": [],
   "source": [
    "print(magda_wiek)"
   ]
  },
  {
   "cell_type": "code",
   "execution_count": null,
   "metadata": {
    "ExecuteTime": {
     "end_time": "2023-06-30T11:01:10.177646Z",
     "start_time": "2023-06-30T11:01:10.078512Z"
    }
   },
   "outputs": [],
   "source": [
    "#Zmienne mozna do siebie odnosic\n",
    "\n",
    "maciek_wiek = magda_wiek"
   ]
  },
  {
   "cell_type": "markdown",
   "metadata": {},
   "source": [
    "Na zmiennych można przeprowadzać operacje : np +,-,*,/\n"
   ]
  },
  {
   "cell_type": "code",
   "execution_count": null,
   "metadata": {
    "ExecuteTime": {
     "end_time": "2023-06-30T11:01:10.280156Z",
     "start_time": "2023-06-30T11:01:10.182456Z"
    }
   },
   "outputs": [],
   "source": [
    "karol_wiek = maciek_wiek-3"
   ]
  },
  {
   "cell_type": "code",
   "execution_count": null,
   "metadata": {
    "ExecuteTime": {
     "end_time": "2023-06-30T11:01:10.395839Z",
     "start_time": "2023-06-30T11:01:10.283258Z"
    }
   },
   "outputs": [],
   "source": [
    "maciek_wiek"
   ]
  },
  {
   "cell_type": "code",
   "execution_count": null,
   "metadata": {
    "ExecuteTime": {
     "end_time": "2023-06-30T11:01:10.507387Z",
     "start_time": "2023-06-30T11:01:10.401104Z"
    }
   },
   "outputs": [],
   "source": [
    "found_coins = 20\n",
    "magic_coins = 10\n",
    "stolen_coins = 3"
   ]
  },
  {
   "cell_type": "code",
   "execution_count": null,
   "metadata": {
    "ExecuteTime": {
     "end_time": "2023-06-30T11:01:10.651954Z",
     "start_time": "2023-06-30T11:01:10.513250Z"
    }
   },
   "outputs": [],
   "source": [
    "found_coins + magic_coins*365 - stolen_coins*52"
   ]
  },
  {
   "cell_type": "markdown",
   "metadata": {},
   "source": [
    "Zadanie:\n",
    "\n",
    "    a. Utworz zmienna o swoim imieniu i wpisz do niej swoj wiek\n",
    "    b. Utworz zmienna o imieniu kolezanki/kolegi i pomnoz jej wiek razy 2"
   ]
  },
  {
   "cell_type": "code",
   "execution_count": null,
   "metadata": {},
   "outputs": [],
   "source": []
  },
  {
   "cell_type": "code",
   "execution_count": null,
   "metadata": {},
   "outputs": [],
   "source": []
  },
  {
   "cell_type": "markdown",
   "metadata": {},
   "source": [
    "## Łańcuch znaków"
   ]
  },
  {
   "cell_type": "markdown",
   "metadata": {},
   "source": [
    "Łańcuch znaków (string) = tekst"
   ]
  },
  {
   "cell_type": "code",
   "execution_count": null,
   "metadata": {
    "ExecuteTime": {
     "end_time": "2023-06-30T11:01:10.774924Z",
     "start_time": "2023-06-30T11:01:10.655110Z"
    }
   },
   "outputs": [],
   "source": [
    "czarodziej = 'harry potter '"
   ]
  },
  {
   "cell_type": "code",
   "execution_count": null,
   "metadata": {
    "ExecuteTime": {
     "end_time": "2023-06-30T11:01:10.872403Z",
     "start_time": "2023-06-30T11:01:10.781101Z"
    }
   },
   "outputs": [],
   "source": [
    "print(czarodziej*10)"
   ]
  },
  {
   "cell_type": "markdown",
   "metadata": {},
   "source": [
    "### input()"
   ]
  },
  {
   "cell_type": "markdown",
   "metadata": {},
   "source": [
    "input() – sluzy do pobierania tekstu od użytkownika"
   ]
  },
  {
   "cell_type": "code",
   "execution_count": null,
   "metadata": {
    "ExecuteTime": {
     "end_time": "2023-06-30T11:01:15.863158Z",
     "start_time": "2023-06-30T11:01:10.874470Z"
    }
   },
   "outputs": [],
   "source": [
    "imie= input(\"Jak masz na imie?\\n\")\n",
    "print(\"Czesc\", imie,\"!\\nJak sie masz?\")"
   ]
  },
  {
   "cell_type": "markdown",
   "metadata": {},
   "source": [
    "### Upper, lower, etc."
   ]
  },
  {
   "cell_type": "markdown",
   "metadata": {},
   "source": [
    "Przydatne operacje na łańcuchach"
   ]
  },
  {
   "cell_type": "code",
   "execution_count": null,
   "metadata": {
    "ExecuteTime": {
     "end_time": "2023-06-30T11:01:15.869896Z",
     "start_time": "2023-06-30T11:01:15.866620Z"
    }
   },
   "outputs": [],
   "source": [
    "zdanie=\"Dzis nauczymy sie programowac w Pytanie\""
   ]
  },
  {
   "cell_type": "code",
   "execution_count": null,
   "metadata": {
    "ExecuteTime": {
     "end_time": "2023-06-30T11:01:15.976923Z",
     "start_time": "2023-06-30T11:01:15.871862Z"
    }
   },
   "outputs": [],
   "source": [
    "print(zdanie.upper())\n"
   ]
  },
  {
   "cell_type": "code",
   "execution_count": null,
   "metadata": {
    "ExecuteTime": {
     "end_time": "2023-06-30T11:01:16.089311Z",
     "start_time": "2023-06-30T11:01:15.982316Z"
    }
   },
   "outputs": [],
   "source": [
    "print(zdanie.lower())"
   ]
  },
  {
   "cell_type": "code",
   "execution_count": null,
   "metadata": {
    "ExecuteTime": {
     "end_time": "2023-06-30T11:01:16.187178Z",
     "start_time": "2023-06-30T11:01:16.091504Z"
    }
   },
   "outputs": [],
   "source": [
    "print(zdanie.swapcase())"
   ]
  },
  {
   "cell_type": "code",
   "execution_count": null,
   "metadata": {
    "ExecuteTime": {
     "end_time": "2023-06-30T11:01:16.293288Z",
     "start_time": "2023-06-30T11:01:16.190012Z"
    }
   },
   "outputs": [],
   "source": [
    "print(zdanie.title())"
   ]
  },
  {
   "cell_type": "code",
   "execution_count": null,
   "metadata": {
    "ExecuteTime": {
     "end_time": "2023-06-30T11:01:16.398587Z",
     "start_time": "2023-06-30T11:01:16.298298Z"
    }
   },
   "outputs": [],
   "source": [
    "# fstrings\n",
    "\n",
    "wiek = 25\n",
    "hobby = 'ksiazki'\n",
    "wiadomosc = f\"Mam {wiek} lat i lubie {hobby}\""
   ]
  },
  {
   "cell_type": "code",
   "execution_count": null,
   "metadata": {
    "ExecuteTime": {
     "end_time": "2023-06-30T11:01:16.495565Z",
     "start_time": "2023-06-30T11:01:16.402624Z"
    }
   },
   "outputs": [],
   "source": [
    "print(wiadomosc)"
   ]
  },
  {
   "cell_type": "markdown",
   "metadata": {},
   "source": [
    "Zadanie\n",
    "\n",
    "1. Wpisz swoj wiek i swoje hobby\n",
    "2. zaaplikuj f-string na zmiennych wiek i hobby"
   ]
  },
  {
   "cell_type": "code",
   "execution_count": null,
   "metadata": {},
   "outputs": [],
   "source": []
  },
  {
   "cell_type": "code",
   "execution_count": null,
   "metadata": {},
   "outputs": [],
   "source": []
  },
  {
   "cell_type": "markdown",
   "metadata": {},
   "source": [
    "## Liczby "
   ]
  },
  {
   "cell_type": "markdown",
   "metadata": {},
   "source": [
    "### Dodawanie"
   ]
  },
  {
   "cell_type": "code",
   "execution_count": null,
   "metadata": {
    "ExecuteTime": {
     "end_time": "2023-06-30T11:01:16.605067Z",
     "start_time": "2023-06-30T11:01:16.499847Z"
    },
    "scrolled": true
   },
   "outputs": [],
   "source": [
    "# integers\n",
    "a = 2\n",
    "b = 3\n",
    "c = a + b\n",
    "\n",
    "print(c)\n",
    "\n",
    "# floats\n",
    "# jak rozni sie zapis tych dwoch liczb\n",
    "\n",
    "x = 2.0\n",
    "y = 3.0\n",
    "z = x + y\n",
    "\n",
    "print(z)"
   ]
  },
  {
   "cell_type": "markdown",
   "metadata": {},
   "source": [
    "### Porownania"
   ]
  },
  {
   "cell_type": "code",
   "execution_count": null,
   "metadata": {
    "ExecuteTime": {
     "end_time": "2023-06-30T11:01:16.705799Z",
     "start_time": "2023-06-30T11:01:16.610095Z"
    }
   },
   "outputs": [],
   "source": [
    "# Aby sprawdzic czy dwie liczby sa sobie rowne stosujemy ==\n",
    "c == z"
   ]
  },
  {
   "cell_type": "code",
   "execution_count": null,
   "metadata": {
    "ExecuteTime": {
     "end_time": "2023-06-30T11:01:16.813762Z",
     "start_time": "2023-06-30T11:01:16.709434Z"
    }
   },
   "outputs": [],
   "source": [
    "# czy 2 > 3?\n",
    "a > b"
   ]
  },
  {
   "cell_type": "code",
   "execution_count": null,
   "metadata": {
    "ExecuteTime": {
     "end_time": "2023-06-30T11:01:16.923717Z",
     "start_time": "2023-06-30T11:01:16.816390Z"
    }
   },
   "outputs": [],
   "source": [
    "# czy 2.0 jest wieksze badz rowne 5.0 odjac 3.0?\n",
    "# zwroccie uwage na kolejnosc dzialania Pythona\n",
    "\n",
    "x >= z - y"
   ]
  },
  {
   "cell_type": "markdown",
   "metadata": {},
   "source": [
    "### Odejmowanie "
   ]
  },
  {
   "cell_type": "code",
   "execution_count": null,
   "metadata": {
    "ExecuteTime": {
     "end_time": "2023-06-30T11:01:17.039264Z",
     "start_time": "2023-06-30T11:01:16.929169Z"
    }
   },
   "outputs": [],
   "source": [
    "# liczby moga byc ujemne, bez problemu\n",
    "\n",
    "a - b"
   ]
  },
  {
   "cell_type": "code",
   "execution_count": null,
   "metadata": {
    "ExecuteTime": {
     "end_time": "2023-06-30T11:01:17.138678Z",
     "start_time": "2023-06-30T11:01:17.042473Z"
    }
   },
   "outputs": [],
   "source": [
    "y - x"
   ]
  },
  {
   "cell_type": "markdown",
   "metadata": {},
   "source": [
    "### Mnozenie"
   ]
  },
  {
   "cell_type": "code",
   "execution_count": null,
   "metadata": {
    "ExecuteTime": {
     "end_time": "2023-06-30T11:01:17.246773Z",
     "start_time": "2023-06-30T11:01:17.142140Z"
    }
   },
   "outputs": [],
   "source": [
    "# dla prostych obliczen nie trzeba printa\n",
    "\n",
    "a*b"
   ]
  },
  {
   "cell_type": "code",
   "execution_count": null,
   "metadata": {
    "ExecuteTime": {
     "end_time": "2023-06-30T11:01:17.349242Z",
     "start_time": "2023-06-30T11:01:17.253643Z"
    }
   },
   "outputs": [],
   "source": [
    "# mozemy wykonywac wiele operacji na raz\n",
    "\n",
    "x*y*z"
   ]
  },
  {
   "cell_type": "code",
   "execution_count": null,
   "metadata": {
    "ExecuteTime": {
     "end_time": "2023-06-30T11:01:17.451857Z",
     "start_time": "2023-06-30T11:01:17.354250Z"
    }
   },
   "outputs": [],
   "source": [
    "# dla powiedzenia pythonowi ktore dzialania maja byc wykonane pierwsze, stosujemy nawiasy\n",
    "\n",
    "(x+y)*z"
   ]
  },
  {
   "cell_type": "code",
   "execution_count": null,
   "metadata": {
    "ExecuteTime": {
     "end_time": "2023-06-30T11:01:17.549493Z",
     "start_time": "2023-06-30T11:01:17.455393Z"
    }
   },
   "outputs": [],
   "source": [
    "# wynik z dzialania na liczbie calkowitej (int) i wymiernej (float) daje nam liczbe wymierna (float)\n",
    "\n",
    "a + 0.0"
   ]
  },
  {
   "cell_type": "markdown",
   "metadata": {},
   "source": [
    "### Dzielenie "
   ]
  },
  {
   "cell_type": "code",
   "execution_count": null,
   "metadata": {
    "ExecuteTime": {
     "end_time": "2023-06-30T11:01:17.655360Z",
     "start_time": "2023-06-30T11:01:17.552929Z"
    }
   },
   "outputs": [],
   "source": [
    "d = a/b\n",
    "d"
   ]
  },
  {
   "cell_type": "code",
   "execution_count": null,
   "metadata": {
    "ExecuteTime": {
     "end_time": "2023-06-30T11:01:17.763488Z",
     "start_time": "2023-06-30T11:01:17.665350Z"
    }
   },
   "outputs": [],
   "source": [
    "x/y"
   ]
  },
  {
   "cell_type": "markdown",
   "metadata": {},
   "source": [
    "### Potegowanie"
   ]
  },
  {
   "cell_type": "code",
   "execution_count": null,
   "metadata": {
    "ExecuteTime": {
     "end_time": "2023-06-30T11:01:17.864049Z",
     "start_time": "2023-06-30T11:01:17.767132Z"
    }
   },
   "outputs": [],
   "source": [
    "a**b"
   ]
  },
  {
   "cell_type": "code",
   "execution_count": null,
   "metadata": {
    "ExecuteTime": {
     "end_time": "2023-06-30T11:01:17.959540Z",
     "start_time": "2023-06-30T11:01:17.866290Z"
    }
   },
   "outputs": [],
   "source": [
    "x**y"
   ]
  },
  {
   "cell_type": "markdown",
   "metadata": {},
   "source": [
    "### Konwersja"
   ]
  },
  {
   "cell_type": "code",
   "execution_count": null,
   "metadata": {
    "ExecuteTime": {
     "end_time": "2023-06-30T11:01:18.052821Z",
     "start_time": "2023-06-30T11:01:17.962591Z"
    }
   },
   "outputs": [],
   "source": [
    "# do sprawdzenia czy liczba jest int'em czy float'em stosujemy type()\n",
    "type(d)"
   ]
  },
  {
   "cell_type": "code",
   "execution_count": null,
   "metadata": {
    "ExecuteTime": {
     "end_time": "2023-06-30T11:01:18.146059Z",
     "start_time": "2023-06-30T11:01:18.055389Z"
    }
   },
   "outputs": [],
   "source": [
    "type(d), d"
   ]
  },
  {
   "cell_type": "code",
   "execution_count": null,
   "metadata": {
    "ExecuteTime": {
     "end_time": "2023-06-30T11:01:18.238535Z",
     "start_time": "2023-06-30T11:01:18.148779Z"
    }
   },
   "outputs": [],
   "source": [
    "# do zmiany typu liczby stosujemy odpowiednio int() lub float()"
   ]
  },
  {
   "cell_type": "code",
   "execution_count": null,
   "metadata": {
    "ExecuteTime": {
     "end_time": "2023-06-30T11:01:18.335188Z",
     "start_time": "2023-06-30T11:01:18.245070Z"
    }
   },
   "outputs": [],
   "source": [
    "int(z)"
   ]
  },
  {
   "cell_type": "code",
   "execution_count": null,
   "metadata": {
    "ExecuteTime": {
     "end_time": "2023-06-30T11:01:18.430854Z",
     "start_time": "2023-06-30T11:01:18.337966Z"
    }
   },
   "outputs": [],
   "source": [
    "float(b)"
   ]
  },
  {
   "cell_type": "code",
   "execution_count": null,
   "metadata": {
    "ExecuteTime": {
     "end_time": "2023-06-30T11:01:18.528699Z",
     "start_time": "2023-06-30T11:01:18.433619Z"
    }
   },
   "outputs": [],
   "source": [
    "# co z ulamkami, czyli z czescia za przecinkiem?\n",
    "\n",
    "int(d)"
   ]
  },
  {
   "cell_type": "code",
   "execution_count": null,
   "metadata": {
    "ExecuteTime": {
     "end_time": "2023-06-30T11:01:18.624154Z",
     "start_time": "2023-06-30T11:01:18.531000Z"
    }
   },
   "outputs": [],
   "source": [
    "# do 'poprawnego' zaokraglania stosujemy round()\n",
    "\n",
    "round(d)"
   ]
  },
  {
   "cell_type": "code",
   "execution_count": null,
   "metadata": {
    "ExecuteTime": {
     "end_time": "2023-06-30T11:01:18.719353Z",
     "start_time": "2023-06-30T11:01:18.631156Z"
    }
   },
   "outputs": [],
   "source": [
    "# round(liczba, miejsca po przecinku)\n",
    "\n",
    "round(d,2)"
   ]
  },
  {
   "cell_type": "markdown",
   "metadata": {},
   "source": [
    "### Modulo"
   ]
  },
  {
   "cell_type": "markdown",
   "metadata": {},
   "source": [
    "Dodatkowo, jako ciekawostka"
   ]
  },
  {
   "cell_type": "code",
   "execution_count": null,
   "metadata": {
    "ExecuteTime": {
     "end_time": "2023-06-30T11:01:18.817528Z",
     "start_time": "2023-06-30T11:01:18.721405Z"
    }
   },
   "outputs": [],
   "source": [
    "# reszta z dzielenia 2 przez 3\n",
    "2%3"
   ]
  },
  {
   "cell_type": "code",
   "execution_count": null,
   "metadata": {
    "ExecuteTime": {
     "end_time": "2023-06-30T11:01:18.928729Z",
     "start_time": "2023-06-30T11:01:18.820092Z"
    },
    "scrolled": true
   },
   "outputs": [],
   "source": [
    "# reszta z dzielenia 5 przez 2\n",
    "5%2"
   ]
  },
  {
   "cell_type": "code",
   "execution_count": null,
   "metadata": {
    "ExecuteTime": {
     "end_time": "2023-06-30T11:01:19.030816Z",
     "start_time": "2023-06-30T11:01:18.931367Z"
    }
   },
   "outputs": [],
   "source": [
    "z%x"
   ]
  },
  {
   "cell_type": "markdown",
   "metadata": {},
   "source": [
    "Do czego moze sie to wlasciwie przydac?"
   ]
  },
  {
   "cell_type": "code",
   "execution_count": null,
   "metadata": {
    "ExecuteTime": {
     "end_time": "2023-06-30T11:01:19.130532Z",
     "start_time": "2023-06-30T11:01:19.033783Z"
    }
   },
   "outputs": [],
   "source": [
    "# Do sprawdzenia czy liczba jest parzysta/nieparzysta\n",
    "\n",
    "# czy reszta z dzielenia 4 przez 2 jest rowna 0, tzn czy liczba dzieli sie przez 2?\n",
    "\n",
    "4%2 == 0"
   ]
  },
  {
   "cell_type": "code",
   "execution_count": null,
   "metadata": {
    "ExecuteTime": {
     "end_time": "2023-06-30T11:01:19.232729Z",
     "start_time": "2023-06-30T11:01:19.134601Z"
    }
   },
   "outputs": [],
   "source": [
    "# czy reszta z dzielenia 5 przez 2 jest rowna 0\n",
    "# jezeli nie to liczba nie dzieli sie przez 2, tzn jest nieparzysta\n",
    "\n",
    "5%2 == 0"
   ]
  },
  {
   "cell_type": "code",
   "execution_count": null,
   "metadata": {
    "ExecuteTime": {
     "end_time": "2023-06-30T11:01:19.331697Z",
     "start_time": "2023-06-30T11:01:19.234956Z"
    }
   },
   "outputs": [],
   "source": [
    "# w przypadkach powyzej: \n",
    "# True -> parzysta\n",
    "# False -> nieparzysta"
   ]
  },
  {
   "cell_type": "code",
   "execution_count": null,
   "metadata": {},
   "outputs": [],
   "source": []
  },
  {
   "cell_type": "markdown",
   "metadata": {
    "ExecuteTime": {
     "end_time": "2023-06-30T10:59:25.568780Z",
     "start_time": "2023-06-30T10:59:25.559803Z"
    }
   },
   "source": [
    "## Listy"
   ]
  },
  {
   "cell_type": "code",
   "execution_count": null,
   "metadata": {
    "ExecuteTime": {
     "end_time": "2023-06-30T11:01:19.431591Z",
     "start_time": "2023-06-30T11:01:19.334127Z"
    }
   },
   "outputs": [],
   "source": [
    "lista_zakupow = [\n",
    "    \"Nogi pająka\", \"palec żaby\", \"skrzydło nietoperza\", \"masło ślimaka\",\n",
    "    \"łupież węża\"\n",
    "]"
   ]
  },
  {
   "cell_type": "code",
   "execution_count": null,
   "metadata": {
    "ExecuteTime": {
     "end_time": "2023-06-30T11:01:19.534551Z",
     "start_time": "2023-06-30T11:01:19.433626Z"
    }
   },
   "outputs": [],
   "source": [
    "print(lista_zakupow)"
   ]
  },
  {
   "cell_type": "code",
   "execution_count": null,
   "metadata": {
    "ExecuteTime": {
     "end_time": "2023-06-30T11:01:19.639374Z",
     "start_time": "2023-06-30T11:01:19.536967Z"
    }
   },
   "outputs": [],
   "source": [
    "print(lista_zakupow[2])\n"
   ]
  },
  {
   "cell_type": "code",
   "execution_count": null,
   "metadata": {
    "ExecuteTime": {
     "end_time": "2023-06-30T11:01:19.747439Z",
     "start_time": "2023-06-30T11:01:19.644708Z"
    }
   },
   "outputs": [],
   "source": [
    "# wycinek listy\n",
    "\n",
    "print(lista_zakupow[2:5])\n"
   ]
  },
  {
   "cell_type": "code",
   "execution_count": null,
   "metadata": {
    "ExecuteTime": {
     "end_time": "2023-06-30T11:01:19.849509Z",
     "start_time": "2023-06-30T11:01:19.749291Z"
    }
   },
   "outputs": [],
   "source": [
    "# listy sa modyfikowalne\n",
    "lista_zakupow[2] = \"wywar z ksiezyca\"\n",
    "lista_zakupow"
   ]
  },
  {
   "cell_type": "code",
   "execution_count": null,
   "metadata": {
    "ExecuteTime": {
     "end_time": "2023-06-30T11:01:19.949216Z",
     "start_time": "2023-06-30T11:01:19.851572Z"
    }
   },
   "outputs": [],
   "source": [
    "# Listy mozna laczyc\n",
    "\n",
    "zakupy_czarownicy = [\"czekolada\", \"magiczne katy\"]\n",
    "magiczne_zakupy = lista_zakupow + zakupy_czarownicy\n",
    "\n",
    "magiczne_zakupy"
   ]
  },
  {
   "cell_type": "code",
   "execution_count": null,
   "metadata": {
    "ExecuteTime": {
     "end_time": "2023-06-30T11:01:20.049432Z",
     "start_time": "2023-06-30T11:01:19.963830Z"
    }
   },
   "outputs": [],
   "source": [
    "#Listy numeryczne\n",
    "\n",
    "lista_1 = [1, 2, 3]"
   ]
  },
  {
   "cell_type": "code",
   "execution_count": null,
   "metadata": {
    "ExecuteTime": {
     "end_time": "2023-06-30T11:01:20.148326Z",
     "start_time": "2023-06-30T11:01:20.053616Z"
    }
   },
   "outputs": [],
   "source": [
    "lista_1 * 3"
   ]
  },
  {
   "cell_type": "code",
   "execution_count": null,
   "metadata": {
    "ExecuteTime": {
     "end_time": "2023-06-30T11:01:20.357696Z",
     "start_time": "2023-06-30T11:01:20.150725Z"
    },
    "scrolled": true
   },
   "outputs": [],
   "source": [
    "# a jakby tak dodac 20\n",
    "\n",
    "lista_1 + 20"
   ]
  },
  {
   "cell_type": "code",
   "execution_count": null,
   "metadata": {},
   "outputs": [],
   "source": []
  },
  {
   "cell_type": "markdown",
   "metadata": {},
   "source": [
    "## Slowniki"
   ]
  },
  {
   "cell_type": "code",
   "execution_count": null,
   "metadata": {
    "ExecuteTime": {
     "end_time": "2023-06-30T11:01:20.360276Z",
     "start_time": "2023-06-30T11:01:09.723Z"
    }
   },
   "outputs": [],
   "source": [
    "reprezentacja_pol = {\n",
    " 'Szczęsny Wojciech': 1,\n",
    " 'Kędziora Tomasz': 4, 'Bednarek Jan': 5, 'Kiwior Jakub': 14,\n",
    " 'Frankowski Przemysław': 19, 'Szymański Damian': 17, 'Zieliński Piotr': 20, 'Szymański Sebastian': 10, 'Zalewski Nicola': 21,\n",
    " 'Lewandowski Robert': 9, 'Milik Arkadiusz': 7\n",
    "}"
   ]
  },
  {
   "cell_type": "code",
   "execution_count": null,
   "metadata": {
    "ExecuteTime": {
     "end_time": "2023-06-30T11:01:20.361731Z",
     "start_time": "2023-06-30T11:01:09.725Z"
    }
   },
   "outputs": [],
   "source": [
    "imiona_nazwiska = list(reprezentacja_pol.keys()) # bo nazwiska i imiona to klucze\n",
    "numery_koszulek = list(reprezentacja_pol.values()) # bo numery koszulek to wartosci"
   ]
  },
  {
   "cell_type": "code",
   "execution_count": null,
   "metadata": {
    "ExecuteTime": {
     "end_time": "2023-06-30T11:01:20.362948Z",
     "start_time": "2023-06-30T11:01:09.726Z"
    }
   },
   "outputs": [],
   "source": [
    "imiona_nazwiska"
   ]
  },
  {
   "cell_type": "code",
   "execution_count": null,
   "metadata": {
    "ExecuteTime": {
     "end_time": "2023-06-30T11:01:20.364367Z",
     "start_time": "2023-06-30T11:01:09.728Z"
    },
    "scrolled": true
   },
   "outputs": [],
   "source": [
    "numery_koszulek"
   ]
  },
  {
   "cell_type": "code",
   "execution_count": null,
   "metadata": {
    "ExecuteTime": {
     "end_time": "2023-06-30T11:01:20.366813Z",
     "start_time": "2023-06-30T11:01:09.729Z"
    }
   },
   "outputs": [],
   "source": [
    "reprezentacja_pol.update({'Bereszyński Bartosz': 18})\n",
    "reprezentacja_pol\n",
    "\n",
    "# 8. Karol Linetty\n",
    "# 13. Jakub Kamiński\n",
    "# 11. Karol Świderski"
   ]
  },
  {
   "cell_type": "code",
   "execution_count": null,
   "metadata": {
    "ExecuteTime": {
     "end_time": "2023-06-30T11:01:20.367836Z",
     "start_time": "2023-06-30T11:01:09.731Z"
    }
   },
   "outputs": [],
   "source": [
    "reprezentacja_pol.pop('Frankowski Przemysław')"
   ]
  },
  {
   "cell_type": "code",
   "execution_count": null,
   "metadata": {
    "ExecuteTime": {
     "end_time": "2023-06-30T11:01:20.370199Z",
     "start_time": "2023-06-30T11:01:09.732Z"
    }
   },
   "outputs": [],
   "source": [
    "reprezentacja_pol"
   ]
  }
 ],
 "metadata": {
  "kernelspec": {
   "display_name": "Python 3",
   "language": "python",
   "name": "python3"
  },
  "language_info": {
   "codemirror_mode": {
    "name": "ipython",
    "version": 3
   },
   "file_extension": ".py",
   "mimetype": "text/x-python",
   "name": "python",
   "nbconvert_exporter": "python",
   "pygments_lexer": "ipython3",
   "version": "3.11.0rc2"
  },
  "toc": {
   "base_numbering": 1,
   "nav_menu": {},
   "number_sections": true,
   "sideBar": true,
   "skip_h1_title": false,
   "title_cell": "Table of Contents",
   "title_sidebar": "Contents",
   "toc_cell": false,
   "toc_position": {},
   "toc_section_display": true,
   "toc_window_display": true
  },
  "varInspector": {
   "cols": {
    "lenName": 16,
    "lenType": 16,
    "lenVar": 40
   },
   "kernels_config": {
    "python": {
     "delete_cmd_postfix": "",
     "delete_cmd_prefix": "del ",
     "library": "var_list.py",
     "varRefreshCmd": "print(var_dic_list())"
    },
    "r": {
     "delete_cmd_postfix": ") ",
     "delete_cmd_prefix": "rm(",
     "library": "var_list.r",
     "varRefreshCmd": "cat(var_dic_list()) "
    }
   },
   "types_to_exclude": [
    "module",
    "function",
    "builtin_function_or_method",
    "instance",
    "_Feature"
   ],
   "window_display": false
  }
 },
 "nbformat": 4,
 "nbformat_minor": 2
}
