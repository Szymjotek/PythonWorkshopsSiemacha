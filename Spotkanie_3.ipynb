{
 "cells": [
  {
   "cell_type": "markdown",
   "metadata": {},
   "source": [
    "1. Quiz o zwierzętach:\n",
    "\n",
    "Utwórz krótki quiz z pytaniami o zwierzętach. Użyj słownika do przechowywania pytań i \n",
    "\n",
    "Wymyśl 5 pytań z odpowiedziami i stwórz własny quiz na podstawie poniższego kodu"
   ]
  },
  {
   "cell_type": "markdown",
   "metadata": {},
   "source": [
    "Przykład"
   ]
  },
  {
   "cell_type": "code",
   "execution_count": null,
   "metadata": {},
   "outputs": [],
   "source": [
    "pytania = {\n",
    "    \"Ile nóg ma pająk?\": \"8\",\n",
    "    \"Jaki kolor ma trawa?\": \"zielony\",\n",
    "    \"Czy pingwiny potrafią latać?\": \"nie\"\n",
    "}\n",
    "\n",
    "punkty = 0\n",
    "\n",
    "for pytanie, poprawna_odpowiedz in pytania.items():\n",
    "    odpowiedz = input(pytanie + \" \")\n",
    "    if odpowiedz.lower() == poprawna_odpowiedz.lower():\n",
    "        print(\"Dobrze!\")\n",
    "        punkty += 1\n",
    "    else:\n",
    "        print(\"Niestety nie. Poprawna odpowiedź to:\", poprawna_odpowiedz)\n",
    "\n",
    "print(f\"Zdobyłeś {punkty} punktów z {len(pytania)} możliwych.\")"
   ]
  },
  {
   "cell_type": "code",
   "execution_count": 1,
   "metadata": {},
   "outputs": [],
   "source": [
    "#tutaj wpisz rozwiązanie\n"
   ]
  },
  {
   "cell_type": "markdown",
   "metadata": {},
   "source": [
    "2. Kalkulator wieku psa:\n",
    "Napisz program, który przelicza wiek psa na ludzkie lata. Poproś użytkownika o podanie wieku psa, a następnie pomnóż ten wiek przez 7, aby uzyskać przybliżony \"ludzki wiek\" psa."
   ]
  },
  {
   "cell_type": "code",
   "execution_count": 3,
   "metadata": {},
   "outputs": [
    {
     "name": "stdout",
     "output_type": "stream",
     "text": [
      "Podałeś taką liczbę: 1.\n"
     ]
    }
   ],
   "source": [
    "zmienna = int(input(\"Podaj liczbę\"))\n",
    "\n",
    "print(f\"Podałeś taką liczbę: {zmienna}.\")"
   ]
  },
  {
   "cell_type": "code",
   "execution_count": 2,
   "metadata": {},
   "outputs": [],
   "source": [
    "#tutaj wpisz rozwiązanie"
   ]
  },
  {
   "cell_type": "markdown",
   "metadata": {},
   "source": [
    "3. Napisz prosty kalkulator. Poproś użytkownika o dwie liczby a następnie wyświetl wynik mnożenia, dzielenia, dodawania i odejmowania."
   ]
  },
  {
   "cell_type": "code",
   "execution_count": 4,
   "metadata": {},
   "outputs": [
    {
     "name": "stdout",
     "output_type": "stream",
     "text": [
      "Wynik pomnożenia liczby przez dwa: 16.0.\n"
     ]
    }
   ],
   "source": [
    "a = float(input(\"Podaj liczbę\"))\n",
    "print(f\"Wynik pomnożenia liczby przez dwa: {a * 2}.\")"
   ]
  },
  {
   "cell_type": "code",
   "execution_count": null,
   "metadata": {},
   "outputs": [],
   "source": [
    "#tutaj wpisz rozwiązanie"
   ]
  },
  {
   "cell_type": "markdown",
   "metadata": {},
   "source": [
    "4. Napisz program, który oblicza pole prostokąta o podanych bokach."
   ]
  },
  {
   "cell_type": "code",
   "execution_count": null,
   "metadata": {},
   "outputs": [],
   "source": [
    "#tutaj wpisz rozwiązanie"
   ]
  },
  {
   "cell_type": "markdown",
   "metadata": {},
   "source": [
    "5. Napisz program, który sprawdza, czy liczba jest większa od 10. Jeśli tak, wypisuje odpowiedni komunikat."
   ]
  },
  {
   "cell_type": "code",
   "execution_count": 5,
   "metadata": {},
   "outputs": [
    {
     "name": "stdout",
     "output_type": "stream",
     "text": [
      "Ta liczba nie jest równa 10\n"
     ]
    }
   ],
   "source": [
    "liczba = 12\n",
    "if liczba == 10:\n",
    "    print(\"Ta liczba jest równa 10\")\n",
    "else:\n",
    "    print(\"Ta liczba nie jest równa 10\")\n"
   ]
  },
  {
   "cell_type": "markdown",
   "metadata": {},
   "source": [
    "6. Napisz program, który wypisze liczby od 1 do 10."
   ]
  },
  {
   "cell_type": "code",
   "execution_count": 6,
   "metadata": {},
   "outputs": [],
   "source": [
    "#tutaj wpisz rozwiązanie"
   ]
  },
  {
   "cell_type": "markdown",
   "metadata": {
    "vscode": {
     "languageId": "latex"
    }
   },
   "source": [
    "7. Napisz program, który oblicza średnią trzech liczb."
   ]
  },
  {
   "cell_type": "code",
   "execution_count": null,
   "metadata": {},
   "outputs": [],
   "source": [
    "#tutaj wpisz rozwiązanie"
   ]
  },
  {
   "cell_type": "markdown",
   "metadata": {},
   "source": [
    "8. Napisz program, który wypisuje liczby od 1 do 10 pomnożone przez 5."
   ]
  },
  {
   "cell_type": "code",
   "execution_count": 10,
   "metadata": {},
   "outputs": [
    {
     "name": "stdout",
     "output_type": "stream",
     "text": [
      "0\n",
      "20\n",
      "40\n",
      "60\n",
      "80\n",
      "100\n",
      "120\n",
      "140\n",
      "160\n",
      "180\n",
      "200\n"
     ]
    }
   ],
   "source": [
    "for i in range(0, 110,10):\n",
    "    wynik = i * 2\n",
    "    print(wynik)\n"
   ]
  },
  {
   "cell_type": "code",
   "execution_count": null,
   "metadata": {},
   "outputs": [],
   "source": [
    "#tutaj wpisz rozwiązanie"
   ]
  },
  {
   "cell_type": "markdown",
   "metadata": {},
   "source": [
    "9. Napisz program, który pyta użytkownika o jego wiek, a następnie wypisuje, ile lat będzie miał za 10 lat."
   ]
  },
  {
   "cell_type": "code",
   "execution_count": 11,
   "metadata": {},
   "outputs": [
    {
     "name": "stdout",
     "output_type": "stream",
     "text": [
      "Liczba to: 1\n"
     ]
    }
   ],
   "source": [
    "zmienna = int(input(\"Ile masz lat? \"))\n",
    "print(\"Liczba to:\", zmienna)"
   ]
  },
  {
   "cell_type": "markdown",
   "metadata": {},
   "source": [
    "10. Napisz program, który pyta użytkownika o jego wiek i wypisuje, czy jest nastolatkiem (wiek od 13 do 19 lat)."
   ]
  },
  {
   "cell_type": "code",
   "execution_count": 12,
   "metadata": {},
   "outputs": [],
   "source": [
    "#tutaj wpisz rozwiązanie"
   ]
  },
  {
   "cell_type": "markdown",
   "metadata": {},
   "source": [
    "11. Napisz program, który sprawdza, czy dana liczba jest dodatnia, ujemna, czy równa zero."
   ]
  },
  {
   "cell_type": "code",
   "execution_count": null,
   "metadata": {},
   "outputs": [],
   "source": [
    "#tutaj wpisz rozwiązanie"
   ]
  },
  {
   "cell_type": "markdown",
   "metadata": {},
   "source": [
    "12. Napisz program, który przyjmuje zdanie od użytkownika, a następnie wypisuje tylko pierwsze 10 znaków."
   ]
  },
  {
   "cell_type": "code",
   "execution_count": 13,
   "metadata": {},
   "outputs": [
    {
     "name": "stdout",
     "output_type": "stream",
     "text": [
      "To\n"
     ]
    }
   ],
   "source": [
    "zdanie = 'To jest moje zdanie'\n",
    "print(zdanie[:2])"
   ]
  },
  {
   "cell_type": "code",
   "execution_count": null,
   "metadata": {},
   "outputs": [],
   "source": [
    "#tutaj wpisz rozwiązanie"
   ]
  },
  {
   "cell_type": "markdown",
   "metadata": {},
   "source": [
    "# Gra w kółko i krzyżyk"
   ]
  },
  {
   "cell_type": "markdown",
   "metadata": {},
   "source": [
    "## Stworzenie planszy"
   ]
  },
  {
   "cell_type": "markdown",
   "metadata": {},
   "source": [
    "W pierwszej kolejności tworzymy planszę do gry w kółko i krzyżyk. Taka plansza ma wymiary 3x3 - posiada 3 wiersze i 3 kolumny. Plansza zostanie przedstawiona za pomocą listy składającej się z trzech trójelementowych list. Każda lista reprezentuje jedną linijkę planszy."
   ]
  },
  {
   "cell_type": "code",
   "execution_count": null,
   "metadata": {},
   "outputs": [],
   "source": [
    "plansza = [[' ', ' ', ' '],\n",
    "           [' ', ' ', ' '],\n",
    "           [' ', ' ', ' ']]"
   ]
  },
  {
   "cell_type": "code",
   "execution_count": null,
   "metadata": {},
   "outputs": [],
   "source": [
    "plansza"
   ]
  },
  {
   "cell_type": "markdown",
   "metadata": {},
   "source": [
    "Aby uzyskać dostęp do konkretnego pola na planszy, musimy określić w nawiasach kwadratowych [ ... ] numer wiersza (zaczynając od 0) oraz numer kolumny (również zaczynając od 0). Na przykład, aby odwołać się do pola w lewym górnym roku zapisujemy **plansza [0] [0]** zaś do pola w prawym górnym rogu: **plansza [0] [2]**."
   ]
  },
  {
   "cell_type": "markdown",
   "metadata": {},
   "source": [
    "<img src=\"Untitled.png\" width: 10% height: 50%>"
   ]
  },
  {
   "cell_type": "code",
   "execution_count": null,
   "metadata": {},
   "outputs": [],
   "source": [
    "plansza[1][1]='X'\n",
    "plansza[1][0]='O'"
   ]
  },
  {
   "cell_type": "code",
   "execution_count": null,
   "metadata": {},
   "outputs": [],
   "source": [
    "plansza"
   ]
  },
  {
   "cell_type": "markdown",
   "metadata": {},
   "source": [
    "## Funkcja wyświetlająca planszę"
   ]
  },
  {
   "cell_type": "markdown",
   "metadata": {},
   "source": [
    "Podczas gry będziemy wielokrotnie wyświetlać, jak w danej chwili wygląda plansza. Aby uniknąć powtarzania tego samego kodu za każdym razem, stworzymy w tym celu własną funkcję. Funkcja przyjmuje jako argument planszę, a następnie wiersz po wierszu wyświetla jej pola."
   ]
  },
  {
   "cell_type": "code",
   "execution_count": null,
   "metadata": {},
   "outputs": [],
   "source": [
    "def pokazPlansze(plansza):\n",
    "    print(plansza[0][0] + '|' + plansza[0][1] + '|' + plansza[0][2])\n",
    "    print('-+-+-')\n",
    "    print(plansza[1][0] + '|' + plansza[1][1] + '|' + plansza[1][2])\n",
    "    print('-+-+-')\n",
    "    print(plansza[2][0] + '|' + plansza[2][1] + '|' + plansza[2][2])\n",
    "    \n",
    "    \n",
    "# wywołujemy funkcję dla aktualnej (testowej) planszy\n",
    "pokazPlansze(plansza)"
   ]
  },
  {
   "cell_type": "markdown",
   "metadata": {},
   "source": [
    "## Kółko i krzyżyk - wersja 4."
   ]
  },
  {
   "cell_type": "markdown",
   "metadata": {},
   "source": [
    "Finalna wersja gry została w całości zapisana za pomocą funkcji. Aby zagrać w grę wystarczy wyołać funkcję **grajKolkoKrzyzyk()**."
   ]
  },
  {
   "cell_type": "code",
   "execution_count": null,
   "metadata": {},
   "outputs": [],
   "source": [
    "def czyWygrana(plansza, aktualnyGracz):\n",
    "    for i in range(3):\n",
    "        if (plansza[i][0] == plansza[i][1] == plansza[i][2] and plansza[i][0] != ' ') or \\\n",
    "           (plansza[0][i] == plansza[1][i] == plansza[2][i] and plansza[0][i] != ' ') or \\\n",
    "           (plansza[0][0] == plansza[1][1] == plansza[2][2] and plansza[0][0] != ' ') or \\\n",
    "           (plansza[2][0] == plansza[1][1] == plansza[0][2] and plansza[2][0] != ' '):\n",
    "                print(\"{} wygrał grę!\".format(aktualnyGracz))\n",
    "                return True\n",
    "        \n",
    "    return False\n",
    "\n",
    "\n",
    "def zmienKolejke(aktualnyGracz):\n",
    "    if aktualnyGracz == 'X':\n",
    "        return 'O'\n",
    "    else:\n",
    "        return 'X'\n",
    "\n",
    "    \n",
    "def podajPozycje(aktualnyGracz):\n",
    "    print('Kolej na ' + aktualnyGracz + '. W którym wierszu chcesz wykonać ruch?')\n",
    "    pozycja1 = input()\n",
    "    \n",
    "    print('W której kolumnie chcesz wykonać ruch?')\n",
    "    pozycja2 = input()\n",
    "    \n",
    "    return pozycja1, pozycja2\n",
    "\n",
    "\n",
    "def wykonajRuch(aktualnyGracz, dozwoloneRuchy):\n",
    "    pozycja1, pozycja2 = podajPozycje(aktualnyGracz)\n",
    "    \n",
    "    while pozycja1 + pozycja2 not in dozwoloneRuchy:\n",
    "        print('Wybrano nieprawidłową pozcyję na planszy. Proszę podać numer wiersza będący cyfrą z podanego zakresu [0, 1, 2]. ')\n",
    "        pozycja1 = input()\n",
    "        print('Teraz proszę podać numer kolumny będący cyfrą z podanego zakresu [0, 1, 2]. ')\n",
    "        pozycja2 = input()\n",
    "        \n",
    "    dozwoloneRuchy.remove(pozycja1 + pozycja2)\n",
    "        \n",
    "    return pozycja1, pozycja2, dozwoloneRuchy\n",
    "    \n",
    "    \n",
    "def grajKolkoKrzyzyk():\n",
    "    aktualnyGracz = 'X'\n",
    "    dozwoloneRuchy = ['00','01','02','10','11','12','20','21','22']\n",
    "    plansza = [[' ', ' ', ' '],\n",
    "               [' ', ' ', ' '],\n",
    "               [' ', ' ', ' ']]\n",
    "    \n",
    "    for i in range(9):\n",
    "        pokazPlansze(plansza)\n",
    "        \n",
    "        # pobranie pozycji bieżącego ruchu\n",
    "        pozycja1, pozycja2, dozwoloneRuchy = wykonajRuch(aktualnyGracz, dozwoloneRuchy)\n",
    "        \n",
    "        # wykonanie ruchu na podanej pozycji\n",
    "        plansza[int(pozycja1)][int(pozycja2)] = aktualnyGracz\n",
    "\n",
    "        # sprawdzenie, czy któryś z graczy wygrał\n",
    "        zatrzymajGre = czyWygrana(plansza, aktualnyGracz)\n",
    "\n",
    "        # zmiana kolejki na drugiego gracza\n",
    "        aktualnyGracz = zmienKolejke(aktualnyGracz)\n",
    "\n",
    "        # sprawdzenie czy plansza jest zapełniona lub czy ktoś wygrał grę?\n",
    "        if dozwoloneRuchy == [] or zatrzymajGre:\n",
    "            # przerwij pętlę\n",
    "            break\n",
    "    \n",
    "    # wyświetlenie końcowego widoku planszy\n",
    "    pokazPlansze(plansza)"
   ]
  },
  {
   "cell_type": "code",
   "execution_count": null,
   "metadata": {},
   "outputs": [],
   "source": [
    "grajKolkoKrzyzyk()"
   ]
  }
 ],
 "metadata": {
  "kernelspec": {
   "display_name": "Python 3",
   "language": "python",
   "name": "python3"
  },
  "language_info": {
   "codemirror_mode": {
    "name": "ipython",
    "version": 3
   },
   "file_extension": ".py",
   "mimetype": "text/x-python",
   "name": "python",
   "nbconvert_exporter": "python",
   "pygments_lexer": "ipython3",
   "version": "3.11.0rc2"
  }
 },
 "nbformat": 4,
 "nbformat_minor": 2
}
